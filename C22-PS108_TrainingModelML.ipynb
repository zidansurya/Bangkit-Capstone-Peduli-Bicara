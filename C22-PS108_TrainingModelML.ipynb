{
  "cells": [
    {
      "cell_type": "code",
      "source": [
        "!pip3 install keras-visualizer"
      ],
      "metadata": {
        "colab": {
          "base_uri": "https://localhost:8080/"
        },
        "id": "SwZd06Ip7yeg",
        "outputId": "a5b91f02-d23a-4d88-ee27-1af3b8de248d"
      },
      "execution_count": null,
      "outputs": [
        {
          "output_type": "stream",
          "name": "stdout",
          "text": [
            "Looking in indexes: https://pypi.org/simple, https://us-python.pkg.dev/colab-wheels/public/simple/\n",
            "Collecting keras-visualizer\n",
            "  Downloading keras_visualizer-2.4-py3-none-any.whl (5.4 kB)\n",
            "Installing collected packages: keras-visualizer\n",
            "Successfully installed keras-visualizer-2.4\n"
          ]
        }
      ]
    },
    {
      "cell_type": "code",
      "execution_count": null,
      "metadata": {
        "id": "SASebK7NDPpt"
      },
      "outputs": [],
      "source": [
        "import matplotlib.pyplot as plt\n",
        "import numpy as np\n",
        "import tensorflow as tf\n",
        "import pathlib\n",
        "import os\n",
        "import librosa\n",
        "import json\n",
        "\n",
        "from tensorflow.keras import layers\n",
        "from tensorflow.keras import models\n",
        "from sklearn.model_selection import train_test_split\n",
        "from IPython import display\n",
        "from keras_visualizer import visualizer\n"
      ]
    },
    {
      "cell_type": "code",
      "execution_count": null,
      "metadata": {
        "colab": {
          "base_uri": "https://localhost:8080/"
        },
        "id": "heDhcgJDPqwt",
        "outputId": "3af52d6c-984a-494e-c28f-9c82f9c2d542"
      },
      "outputs": [
        {
          "output_type": "stream",
          "name": "stdout",
          "text": [
            "Mounted at /content/drive\n"
          ]
        }
      ],
      "source": [
        "from google.colab import drive\n",
        "drive.mount('/content/drive')"
      ]
    },
    {
      "cell_type": "markdown",
      "metadata": {
        "id": "DFCnDsLbjy6m"
      },
      "source": [
        "cd /content/drive/MyDrive/BANGKIT\n",
        "\n",
        "!unzip /content/drive/MyDrive/dikeluarin_fixbgt.zip"
      ]
    },
    {
      "cell_type": "code",
      "execution_count": null,
      "metadata": {
        "colab": {
          "base_uri": "https://localhost:8080/"
        },
        "id": "N4G89JQSE0i_",
        "outputId": "3cbbd251-ccb4-4d22-b552-2c004a872522"
      },
      "outputs": [
        {
          "output_type": "stream",
          "name": "stdout",
          "text": [
            "Commands: ['Pundak' 'Mata' 'Perut' 'Pipi' 'Telinga' 'Gigi' 'Hidung' 'Jari' 'Lidah'\n",
            " 'Lutut']\n"
          ]
        }
      ],
      "source": [
        "data_dir = pathlib.Path('/content/drive/MyDrive/BANGKIT/AnggotaTubuhPart1')\n",
        "commands = np.array(tf.io.gfile.listdir(str(data_dir)))\n",
        "print('Commands:', commands)"
      ]
    },
    {
      "cell_type": "code",
      "execution_count": null,
      "metadata": {
        "colab": {
          "base_uri": "https://localhost:8080/"
        },
        "id": "w8S2AdcpGfaC",
        "outputId": "8312e393-7a38-4dc4-8de4-90a7f600cc84"
      },
      "outputs": [
        {
          "output_type": "stream",
          "name": "stdout",
          "text": [
            "Number of total axample: 1050\n",
            "Number of examples per labes: 106\n",
            "Example file tentor: tf.Tensor(b'/content/drive/MyDrive/BANGKIT/AnggotaTubuhPart1/Pundak/pundak_ (1).wav', shape=(), dtype=string)\n"
          ]
        }
      ],
      "source": [
        "filename = tf.io.gfile.glob(str(data_dir) + '/*/*')\n",
        "filename = tf.random.shuffle(filename)\n",
        "num_samples = len(filename)\n",
        "print(\"Number of total axample:\", num_samples)\n",
        "print(\"Number of examples per labes:\", len(tf.io.gfile.listdir(str(data_dir/commands[0]))))\n",
        "print(\"Example file tentor:\", filename[0])"
      ]
    },
    {
      "cell_type": "code",
      "source": [
        "#Pre Processing Dataset\n",
        "def preprocess_dataset(dataset, json_path, mfcc_coef=12, fft_length=2048, hop_length=512):\n",
        "\n",
        "    data = {\"mapping\": [], \"labels\": [], \"mfcc\": [], \"files\": []}\n",
        "    count=0\n",
        "    \n",
        "    for num_dir, (path_dir, name_dir, filename) in enumerate(os.walk(dataset)):\n",
        "       \n",
        "        if path_dir is not dataset:       \n",
        "            labeling = path_dir.split(\"/\")[-2:]\n",
        "            data[\"mapping\"].append(labeling)\n",
        "            print(\"\\nProcessing: '{}'\".format(labeling))\n",
        "\n",
        "            for f in filename:\n",
        "                file_path = os.path.join(path_dir, f)\n",
        "                signal, rate = librosa.load(file_path)\n",
        "                if len(signal) >= 22050: \n",
        "                    signal = signal[:22050]            \n",
        "                    MFCCs = librosa.feature.mfcc(signal, rate, n_mfcc=mfcc_coef, n_fft=fft_length,\n",
        "                                                    hop_length=hop_length)\n",
        "                    count=count+1\n",
        "                    data[\"mfcc\"].append(MFCCs.T.tolist())\n",
        "                    data[\"labels\"].append(num_dir-1)\n",
        "                    data[\"files\"].append(file_path)\n",
        "                    print(str(count)+\" {}: {}\".format(file_path, num_dir-1))\n",
        "\n",
        "    with open(json_path, \"w\") as fp:\n",
        "        json.dump(data, fp, indent=4)"
      ],
      "metadata": {
        "id": "3Eh11bV15cps"
      },
      "execution_count": null,
      "outputs": []
    },
    {
      "cell_type": "code",
      "source": [
        "#labelling\n",
        "preprocess_dataset('/content/drive/MyDrive/BANGKIT/AnggotaTubuhPart1', 'AnggotaTubuh.json')"
      ],
      "metadata": {
        "colab": {
          "base_uri": "https://localhost:8080/"
        },
        "id": "-QW5FFFy5cuX",
        "outputId": "08badad3-da6e-4582-8c02-ef8266176a9d"
      },
      "execution_count": null,
      "outputs": [
        {
          "output_type": "stream",
          "name": "stdout",
          "text": [
            "\n",
            "Processing: '['AnggotaTubuhPart1', 'Pundak']'\n",
            "1 /content/drive/MyDrive/BANGKIT/AnggotaTubuhPart1/Pundak/17_pundak-y.wav: 0\n",
            "2 /content/drive/MyDrive/BANGKIT/AnggotaTubuhPart1/Pundak/Pundak4.wav: 0\n",
            "3 /content/drive/MyDrive/BANGKIT/AnggotaTubuhPart1/Pundak/Pundak5.wav: 0\n",
            "4 /content/drive/MyDrive/BANGKIT/AnggotaTubuhPart1/Pundak/pundak_nur1.wav: 0\n",
            "5 /content/drive/MyDrive/BANGKIT/AnggotaTubuhPart1/Pundak/pundak_nur2.wav: 0\n",
            "6 /content/drive/MyDrive/BANGKIT/AnggotaTubuhPart1/Pundak/pundak_nur3.wav: 0\n",
            "7 /content/drive/MyDrive/BANGKIT/AnggotaTubuhPart1/Pundak/pundak_nur4.wav: 0\n",
            "8 /content/drive/MyDrive/BANGKIT/AnggotaTubuhPart1/Pundak/pundak_nur5.wav: 0\n",
            "9 /content/drive/MyDrive/BANGKIT/AnggotaTubuhPart1/Pundak/pundak_nurr.wav: 0\n",
            "10 /content/drive/MyDrive/BANGKIT/AnggotaTubuhPart1/Pundak/pundak_nurp.wav: 0\n",
            "11 /content/drive/MyDrive/BANGKIT/AnggotaTubuhPart1/Pundak/pundak_nuru.wav: 0\n",
            "12 /content/drive/MyDrive/BANGKIT/AnggotaTubuhPart1/Pundak/pundak zi (8).wav: 0\n",
            "13 /content/drive/MyDrive/BANGKIT/AnggotaTubuhPart1/Pundak/pundak zi (9).wav: 0\n",
            "14 /content/drive/MyDrive/BANGKIT/AnggotaTubuhPart1/Pundak/pundak zi (10).wav: 0\n",
            "15 /content/drive/MyDrive/BANGKIT/AnggotaTubuhPart1/Pundak/pundak zi (3).wav: 0\n",
            "16 /content/drive/MyDrive/BANGKIT/AnggotaTubuhPart1/Pundak/pundak zi (2).wav: 0\n",
            "17 /content/drive/MyDrive/BANGKIT/AnggotaTubuhPart1/Pundak/pundak zi (1).wav: 0\n",
            "18 /content/drive/MyDrive/BANGKIT/AnggotaTubuhPart1/Pundak/pundak zi (4).wav: 0\n",
            "19 /content/drive/MyDrive/BANGKIT/AnggotaTubuhPart1/Pundak/pundak zi (7).wav: 0\n",
            "20 /content/drive/MyDrive/BANGKIT/AnggotaTubuhPart1/Pundak/pundak zi (6).wav: 0\n",
            "21 /content/drive/MyDrive/BANGKIT/AnggotaTubuhPart1/Pundak/pundak zi (5).wav: 0\n",
            "22 /content/drive/MyDrive/BANGKIT/AnggotaTubuhPart1/Pundak/pundak_rna (1).wav: 0\n",
            "23 /content/drive/MyDrive/BANGKIT/AnggotaTubuhPart1/Pundak/pundak_rna (2).wav: 0\n",
            "24 /content/drive/MyDrive/BANGKIT/AnggotaTubuhPart1/Pundak/pundak_rna (3).wav: 0\n",
            "25 /content/drive/MyDrive/BANGKIT/AnggotaTubuhPart1/Pundak/pundak_rna (4).wav: 0\n",
            "26 /content/drive/MyDrive/BANGKIT/AnggotaTubuhPart1/Pundak/pundak_rna (5).wav: 0\n",
            "27 /content/drive/MyDrive/BANGKIT/AnggotaTubuhPart1/Pundak/pundak_rna (6).wav: 0\n",
            "28 /content/drive/MyDrive/BANGKIT/AnggotaTubuhPart1/Pundak/pundak_rna (7).wav: 0\n",
            "29 /content/drive/MyDrive/BANGKIT/AnggotaTubuhPart1/Pundak/pundak_rna (8).wav: 0\n",
            "30 /content/drive/MyDrive/BANGKIT/AnggotaTubuhPart1/Pundak/pundak_rna (9).wav: 0\n",
            "31 /content/drive/MyDrive/BANGKIT/AnggotaTubuhPart1/Pundak/pundak_rna (10).wav: 0\n",
            "32 /content/drive/MyDrive/BANGKIT/AnggotaTubuhPart1/Pundak/pundak_ (1).wav: 0\n",
            "33 /content/drive/MyDrive/BANGKIT/AnggotaTubuhPart1/Pundak/pundak_ (4).wav: 0\n",
            "34 /content/drive/MyDrive/BANGKIT/AnggotaTubuhPart1/Pundak/pundak_ (3).wav: 0\n",
            "35 /content/drive/MyDrive/BANGKIT/AnggotaTubuhPart1/Pundak/pundak_ (2).wav: 0\n",
            "36 /content/drive/MyDrive/BANGKIT/AnggotaTubuhPart1/Pundak/pundak_ (5).wav: 0\n",
            "37 /content/drive/MyDrive/BANGKIT/AnggotaTubuhPart1/Pundak/pundak_ (7).wav: 0\n",
            "38 /content/drive/MyDrive/BANGKIT/AnggotaTubuhPart1/Pundak/pundak_ (8).wav: 0\n",
            "39 /content/drive/MyDrive/BANGKIT/AnggotaTubuhPart1/Pundak/pundak_ (6).wav: 0\n",
            "40 /content/drive/MyDrive/BANGKIT/AnggotaTubuhPart1/Pundak/pundak_ (10).wav: 0\n",
            "41 /content/drive/MyDrive/BANGKIT/AnggotaTubuhPart1/Pundak/pundak_ (9).wav: 0\n",
            "42 /content/drive/MyDrive/BANGKIT/AnggotaTubuhPart1/Pundak/pundak_rt1.wav: 0\n",
            "43 /content/drive/MyDrive/BANGKIT/AnggotaTubuhPart1/Pundak/pundak_rt2.wav: 0\n",
            "44 /content/drive/MyDrive/BANGKIT/AnggotaTubuhPart1/Pundak/pundak1_da (2).wav: 0\n",
            "45 /content/drive/MyDrive/BANGKIT/AnggotaTubuhPart1/Pundak/pundak1_da (3).wav: 0\n",
            "46 /content/drive/MyDrive/BANGKIT/AnggotaTubuhPart1/Pundak/pundak1_tj (1).wav: 0\n",
            "47 /content/drive/MyDrive/BANGKIT/AnggotaTubuhPart1/Pundak/pundak1_tj (2).wav: 0\n",
            "48 /content/drive/MyDrive/BANGKIT/AnggotaTubuhPart1/Pundak/pundak1_tj (3).wav: 0\n",
            "49 /content/drive/MyDrive/BANGKIT/AnggotaTubuhPart1/Pundak/pundak n (1).wav: 0\n",
            "50 /content/drive/MyDrive/BANGKIT/AnggotaTubuhPart1/Pundak/pundak n (2).wav: 0\n",
            "51 /content/drive/MyDrive/BANGKIT/AnggotaTubuhPart1/Pundak/pundak n (3).wav: 0\n",
            "52 /content/drive/MyDrive/BANGKIT/AnggotaTubuhPart1/Pundak/pundak n (7).wav: 0\n",
            "53 /content/drive/MyDrive/BANGKIT/AnggotaTubuhPart1/Pundak/pundak n (4).wav: 0\n",
            "54 /content/drive/MyDrive/BANGKIT/AnggotaTubuhPart1/Pundak/pundak n (5).wav: 0\n",
            "55 /content/drive/MyDrive/BANGKIT/AnggotaTubuhPart1/Pundak/pundak n (6).wav: 0\n",
            "56 /content/drive/MyDrive/BANGKIT/AnggotaTubuhPart1/Pundak/pundak n (8).wav: 0\n",
            "57 /content/drive/MyDrive/BANGKIT/AnggotaTubuhPart1/Pundak/pundak n (10).wav: 0\n",
            "58 /content/drive/MyDrive/BANGKIT/AnggotaTubuhPart1/Pundak/pundak n (9).wav: 0\n",
            "59 /content/drive/MyDrive/BANGKIT/AnggotaTubuhPart1/Pundak/pundakn (2).wav: 0\n",
            "60 /content/drive/MyDrive/BANGKIT/AnggotaTubuhPart1/Pundak/pundakn (4).wav: 0\n",
            "61 /content/drive/MyDrive/BANGKIT/AnggotaTubuhPart1/Pundak/pundakn (3).wav: 0\n",
            "62 /content/drive/MyDrive/BANGKIT/AnggotaTubuhPart1/Pundak/pundakn (1).wav: 0\n",
            "63 /content/drive/MyDrive/BANGKIT/AnggotaTubuhPart1/Pundak/pundakn (6).wav: 0\n",
            "64 /content/drive/MyDrive/BANGKIT/AnggotaTubuhPart1/Pundak/pundakn (5).wav: 0\n",
            "65 /content/drive/MyDrive/BANGKIT/AnggotaTubuhPart1/Pundak/pundakn (7).wav: 0\n",
            "66 /content/drive/MyDrive/BANGKIT/AnggotaTubuhPart1/Pundak/pundakn (8).wav: 0\n",
            "67 /content/drive/MyDrive/BANGKIT/AnggotaTubuhPart1/Pundak/pundakn.wav: 0\n",
            "68 /content/drive/MyDrive/BANGKIT/AnggotaTubuhPart1/Pundak/pundakn (9).wav: 0\n",
            "69 /content/drive/MyDrive/BANGKIT/AnggotaTubuhPart1/Pundak/pundak g (1).wav: 0\n",
            "70 /content/drive/MyDrive/BANGKIT/AnggotaTubuhPart1/Pundak/pundak g (5).wav: 0\n",
            "71 /content/drive/MyDrive/BANGKIT/AnggotaTubuhPart1/Pundak/pundak g (3).wav: 0\n",
            "72 /content/drive/MyDrive/BANGKIT/AnggotaTubuhPart1/Pundak/pundak g (2).wav: 0\n",
            "73 /content/drive/MyDrive/BANGKIT/AnggotaTubuhPart1/Pundak/pundak g (4).wav: 0\n",
            "74 /content/drive/MyDrive/BANGKIT/AnggotaTubuhPart1/Pundak/pundak g (6).wav: 0\n",
            "75 /content/drive/MyDrive/BANGKIT/AnggotaTubuhPart1/Pundak/pundak g (8).wav: 0\n",
            "76 /content/drive/MyDrive/BANGKIT/AnggotaTubuhPart1/Pundak/pundak g (9).wav: 0\n",
            "77 /content/drive/MyDrive/BANGKIT/AnggotaTubuhPart1/Pundak/pundak g (7).wav: 0\n",
            "78 /content/drive/MyDrive/BANGKIT/AnggotaTubuhPart1/Pundak/pundak g (10).wav: 0\n",
            "79 /content/drive/MyDrive/BANGKIT/AnggotaTubuhPart1/Pundak/pundak2_bg (1).wav: 0\n",
            "80 /content/drive/MyDrive/BANGKIT/AnggotaTubuhPart1/Pundak/pundak2_bg (2).wav: 0\n",
            "81 /content/drive/MyDrive/BANGKIT/AnggotaTubuhPart1/Pundak/pundak_alf (8).wav: 0\n",
            "82 /content/drive/MyDrive/BANGKIT/AnggotaTubuhPart1/Pundak/pundak_alf (9).wav: 0\n",
            "83 /content/drive/MyDrive/BANGKIT/AnggotaTubuhPart1/Pundak/pundak_alf (10).wav: 0\n",
            "84 /content/drive/MyDrive/BANGKIT/AnggotaTubuhPart1/Pundak/pundak_alf (2).wav: 0\n",
            "85 /content/drive/MyDrive/BANGKIT/AnggotaTubuhPart1/Pundak/pundak_alf (3).wav: 0\n",
            "86 /content/drive/MyDrive/BANGKIT/AnggotaTubuhPart1/Pundak/pundak_alf (5).wav: 0\n",
            "87 /content/drive/MyDrive/BANGKIT/AnggotaTubuhPart1/Pundak/pundak_alf (6).wav: 0\n",
            "88 /content/drive/MyDrive/BANGKIT/AnggotaTubuhPart1/Pundak/pundak_alf (7).wav: 0\n",
            "89 /content/drive/MyDrive/BANGKIT/AnggotaTubuhPart1/Pundak/pundak_alf (4).wav: 0\n",
            "90 /content/drive/MyDrive/BANGKIT/AnggotaTubuhPart1/Pundak/pundak_alf (1).wav: 0\n",
            "\n",
            "Processing: '['AnggotaTubuhPart1', 'Mata']'\n",
            "91 /content/drive/MyDrive/BANGKIT/AnggotaTubuhPart1/Mata/2_mata-y.wav: 1\n",
            "92 /content/drive/MyDrive/BANGKIT/AnggotaTubuhPart1/Mata/B-Mata.wav: 1\n",
            "93 /content/drive/MyDrive/BANGKIT/AnggotaTubuhPart1/Mata/mata_aqib.wav: 1\n",
            "94 /content/drive/MyDrive/BANGKIT/AnggotaTubuhPart1/Mata/Mata4.wav: 1\n",
            "95 /content/drive/MyDrive/BANGKIT/AnggotaTubuhPart1/Mata/Mata5.wav: 1\n",
            "96 /content/drive/MyDrive/BANGKIT/AnggotaTubuhPart1/Mata/AnyConv.com__mata z.wav: 1\n",
            "97 /content/drive/MyDrive/BANGKIT/AnggotaTubuhPart1/Mata/mata_nur1.wav: 1\n",
            "98 /content/drive/MyDrive/BANGKIT/AnggotaTubuhPart1/Mata/mata_nur2.wav: 1\n",
            "99 /content/drive/MyDrive/BANGKIT/AnggotaTubuhPart1/Mata/mata_nur3.wav: 1\n",
            "100 /content/drive/MyDrive/BANGKIT/AnggotaTubuhPart1/Mata/mata_nur4.wav: 1\n",
            "101 /content/drive/MyDrive/BANGKIT/AnggotaTubuhPart1/Mata/mata_nur5.wav: 1\n",
            "102 /content/drive/MyDrive/BANGKIT/AnggotaTubuhPart1/Mata/mata_nurr.wav: 1\n",
            "103 /content/drive/MyDrive/BANGKIT/AnggotaTubuhPart1/Mata/mata_nurp.wav: 1\n",
            "104 /content/drive/MyDrive/BANGKIT/AnggotaTubuhPart1/Mata/mata_nuru.wav: 1\n",
            "105 /content/drive/MyDrive/BANGKIT/AnggotaTubuhPart1/Mata/mata zi (4).wav: 1\n",
            "106 /content/drive/MyDrive/BANGKIT/AnggotaTubuhPart1/Mata/mata zi (3).wav: 1\n",
            "107 /content/drive/MyDrive/BANGKIT/AnggotaTubuhPart1/Mata/mata zi (2).wav: 1\n",
            "108 /content/drive/MyDrive/BANGKIT/AnggotaTubuhPart1/Mata/mata zi (5).wav: 1\n",
            "109 /content/drive/MyDrive/BANGKIT/AnggotaTubuhPart1/Mata/mata zi (6).wav: 1\n",
            "110 /content/drive/MyDrive/BANGKIT/AnggotaTubuhPart1/Mata/mata zi (7).wav: 1\n",
            "111 /content/drive/MyDrive/BANGKIT/AnggotaTubuhPart1/Mata/mata zi (9).wav: 1\n",
            "112 /content/drive/MyDrive/BANGKIT/AnggotaTubuhPart1/Mata/mata zi (10).wav: 1\n",
            "113 /content/drive/MyDrive/BANGKIT/AnggotaTubuhPart1/Mata/mata zi (8).wav: 1\n",
            "114 /content/drive/MyDrive/BANGKIT/AnggotaTubuhPart1/Mata/mata zi (1).wav: 1\n",
            "115 /content/drive/MyDrive/BANGKIT/AnggotaTubuhPart1/Mata/mata_rna (1).wav: 1\n",
            "116 /content/drive/MyDrive/BANGKIT/AnggotaTubuhPart1/Mata/mata_rna (2).wav: 1\n",
            "117 /content/drive/MyDrive/BANGKIT/AnggotaTubuhPart1/Mata/mata_rna (3).wav: 1\n",
            "118 /content/drive/MyDrive/BANGKIT/AnggotaTubuhPart1/Mata/mata_rna (4).wav: 1\n",
            "119 /content/drive/MyDrive/BANGKIT/AnggotaTubuhPart1/Mata/mata_rna (5).wav: 1\n",
            "120 /content/drive/MyDrive/BANGKIT/AnggotaTubuhPart1/Mata/mata_rna (6).wav: 1\n",
            "121 /content/drive/MyDrive/BANGKIT/AnggotaTubuhPart1/Mata/mata_rna (7).wav: 1\n",
            "122 /content/drive/MyDrive/BANGKIT/AnggotaTubuhPart1/Mata/mata_rna (8).wav: 1\n",
            "123 /content/drive/MyDrive/BANGKIT/AnggotaTubuhPart1/Mata/mata_rna (9).wav: 1\n",
            "124 /content/drive/MyDrive/BANGKIT/AnggotaTubuhPart1/Mata/mata_rna (10).wav: 1\n",
            "125 /content/drive/MyDrive/BANGKIT/AnggotaTubuhPart1/Mata/mata_ (3).wav: 1\n",
            "126 /content/drive/MyDrive/BANGKIT/AnggotaTubuhPart1/Mata/mata_ (2).wav: 1\n",
            "127 /content/drive/MyDrive/BANGKIT/AnggotaTubuhPart1/Mata/mata_ (4).wav: 1\n",
            "128 /content/drive/MyDrive/BANGKIT/AnggotaTubuhPart1/Mata/mata_ (5).wav: 1\n",
            "129 /content/drive/MyDrive/BANGKIT/AnggotaTubuhPart1/Mata/mata_ (6).wav: 1\n",
            "130 /content/drive/MyDrive/BANGKIT/AnggotaTubuhPart1/Mata/mata_ (7).wav: 1\n",
            "131 /content/drive/MyDrive/BANGKIT/AnggotaTubuhPart1/Mata/mata_ (10).wav: 1\n",
            "132 /content/drive/MyDrive/BANGKIT/AnggotaTubuhPart1/Mata/mata_ (8).wav: 1\n",
            "133 /content/drive/MyDrive/BANGKIT/AnggotaTubuhPart1/Mata/mata_.wav: 1\n",
            "134 /content/drive/MyDrive/BANGKIT/AnggotaTubuhPart1/Mata/mata_ (9).wav: 1\n",
            "135 /content/drive/MyDrive/BANGKIT/AnggotaTubuhPart1/Mata/mata_alf (10).wav: 1\n",
            "136 /content/drive/MyDrive/BANGKIT/AnggotaTubuhPart1/Mata/mata_rt1.wav: 1\n",
            "137 /content/drive/MyDrive/BANGKIT/AnggotaTubuhPart1/Mata/mata_rt2.wav: 1\n",
            "138 /content/drive/MyDrive/BANGKIT/AnggotaTubuhPart1/Mata/mata1_da (2).wav: 1\n",
            "139 /content/drive/MyDrive/BANGKIT/AnggotaTubuhPart1/Mata/mata1_da (3).wav: 1\n",
            "140 /content/drive/MyDrive/BANGKIT/AnggotaTubuhPart1/Mata/mata1_tj (1).wav: 1\n",
            "141 /content/drive/MyDrive/BANGKIT/AnggotaTubuhPart1/Mata/mata1_tj (2).wav: 1\n",
            "142 /content/drive/MyDrive/BANGKIT/AnggotaTubuhPart1/Mata/mata1_tj (3).wav: 1\n",
            "143 /content/drive/MyDrive/BANGKIT/AnggotaTubuhPart1/Mata/mata n (1).wav: 1\n",
            "144 /content/drive/MyDrive/BANGKIT/AnggotaTubuhPart1/Mata/mata n (2).wav: 1\n",
            "145 /content/drive/MyDrive/BANGKIT/AnggotaTubuhPart1/Mata/mata n (3).wav: 1\n",
            "146 /content/drive/MyDrive/BANGKIT/AnggotaTubuhPart1/Mata/mata n (5).wav: 1\n",
            "147 /content/drive/MyDrive/BANGKIT/AnggotaTubuhPart1/Mata/mata n (6).wav: 1\n",
            "148 /content/drive/MyDrive/BANGKIT/AnggotaTubuhPart1/Mata/mata n (4).wav: 1\n",
            "149 /content/drive/MyDrive/BANGKIT/AnggotaTubuhPart1/Mata/mata n (7).wav: 1\n",
            "150 /content/drive/MyDrive/BANGKIT/AnggotaTubuhPart1/Mata/mata n (9).wav: 1\n",
            "151 /content/drive/MyDrive/BANGKIT/AnggotaTubuhPart1/Mata/mata n (8).wav: 1\n",
            "152 /content/drive/MyDrive/BANGKIT/AnggotaTubuhPart1/Mata/mata n (10).wav: 1\n",
            "153 /content/drive/MyDrive/BANGKIT/AnggotaTubuhPart1/Mata/mata (1).wav: 1\n",
            "154 /content/drive/MyDrive/BANGKIT/AnggotaTubuhPart1/Mata/mata (4).wav: 1\n",
            "155 /content/drive/MyDrive/BANGKIT/AnggotaTubuhPart1/Mata/mata (2).wav: 1\n",
            "156 /content/drive/MyDrive/BANGKIT/AnggotaTubuhPart1/Mata/mata (3).wav: 1\n",
            "157 /content/drive/MyDrive/BANGKIT/AnggotaTubuhPart1/Mata/mata (7).wav: 1\n",
            "158 /content/drive/MyDrive/BANGKIT/AnggotaTubuhPart1/Mata/mata (6).wav: 1\n",
            "159 /content/drive/MyDrive/BANGKIT/AnggotaTubuhPart1/Mata/mata (5).wav: 1\n",
            "160 /content/drive/MyDrive/BANGKIT/AnggotaTubuhPart1/Mata/mata (9).wav: 1\n",
            "161 /content/drive/MyDrive/BANGKIT/AnggotaTubuhPart1/Mata/mata (10).wav: 1\n",
            "162 /content/drive/MyDrive/BANGKIT/AnggotaTubuhPart1/Mata/mata (8).wav: 1\n",
            "163 /content/drive/MyDrive/BANGKIT/AnggotaTubuhPart1/Mata/mata g (2).wav: 1\n",
            "164 /content/drive/MyDrive/BANGKIT/AnggotaTubuhPart1/Mata/mata g (4).wav: 1\n",
            "165 /content/drive/MyDrive/BANGKIT/AnggotaTubuhPart1/Mata/mata g (1).wav: 1\n",
            "166 /content/drive/MyDrive/BANGKIT/AnggotaTubuhPart1/Mata/mata g (3).wav: 1\n",
            "167 /content/drive/MyDrive/BANGKIT/AnggotaTubuhPart1/Mata/mata g (6).wav: 1\n",
            "168 /content/drive/MyDrive/BANGKIT/AnggotaTubuhPart1/Mata/mata g (7).wav: 1\n",
            "169 /content/drive/MyDrive/BANGKIT/AnggotaTubuhPart1/Mata/mata g (5).wav: 1\n",
            "170 /content/drive/MyDrive/BANGKIT/AnggotaTubuhPart1/Mata/mata g (10).wav: 1\n",
            "171 /content/drive/MyDrive/BANGKIT/AnggotaTubuhPart1/Mata/mata g (9).wav: 1\n",
            "172 /content/drive/MyDrive/BANGKIT/AnggotaTubuhPart1/Mata/mata g (8).wav: 1\n",
            "173 /content/drive/MyDrive/BANGKIT/AnggotaTubuhPart1/Mata/mata1_bg (2).wav: 1\n",
            "174 /content/drive/MyDrive/BANGKIT/AnggotaTubuhPart1/Mata/mata1_bg (1).wav: 1\n",
            "175 /content/drive/MyDrive/BANGKIT/AnggotaTubuhPart1/Mata/mata_alf (1).wav: 1\n",
            "176 /content/drive/MyDrive/BANGKIT/AnggotaTubuhPart1/Mata/mata_alf (9).wav: 1\n",
            "177 /content/drive/MyDrive/BANGKIT/AnggotaTubuhPart1/Mata/mata_alf (8).wav: 1\n",
            "178 /content/drive/MyDrive/BANGKIT/AnggotaTubuhPart1/Mata/mata_alf (7).wav: 1\n",
            "179 /content/drive/MyDrive/BANGKIT/AnggotaTubuhPart1/Mata/mata_alf (6).wav: 1\n",
            "180 /content/drive/MyDrive/BANGKIT/AnggotaTubuhPart1/Mata/mata_alf (5).wav: 1\n",
            "181 /content/drive/MyDrive/BANGKIT/AnggotaTubuhPart1/Mata/mata_alf (4).wav: 1\n",
            "182 /content/drive/MyDrive/BANGKIT/AnggotaTubuhPart1/Mata/mata_alf (3).wav: 1\n",
            "183 /content/drive/MyDrive/BANGKIT/AnggotaTubuhPart1/Mata/mata_alf (2).wav: 1\n",
            "\n",
            "Processing: '['AnggotaTubuhPart1', 'Perut']'\n",
            "184 /content/drive/MyDrive/BANGKIT/AnggotaTubuhPart1/Perut/10_perut-h.wav: 2\n",
            "185 /content/drive/MyDrive/BANGKIT/AnggotaTubuhPart1/Perut/10_perut-y.wav: 2\n",
            "186 /content/drive/MyDrive/BANGKIT/AnggotaTubuhPart1/Perut/Perut2.wav: 2\n",
            "187 /content/drive/MyDrive/BANGKIT/AnggotaTubuhPart1/Perut/Perut4.wav: 2\n",
            "188 /content/drive/MyDrive/BANGKIT/AnggotaTubuhPart1/Perut/Perut5.wav: 2\n",
            "189 /content/drive/MyDrive/BANGKIT/AnggotaTubuhPart1/Perut/AnyConv.com__perut z.wav: 2\n",
            "190 /content/drive/MyDrive/BANGKIT/AnggotaTubuhPart1/Perut/perut_nur11.wav: 2\n",
            "191 /content/drive/MyDrive/BANGKIT/AnggotaTubuhPart1/Perut/perut_nur22.wav: 2\n",
            "192 /content/drive/MyDrive/BANGKIT/AnggotaTubuhPart1/Perut/perut_nur4.wav: 2\n",
            "193 /content/drive/MyDrive/BANGKIT/AnggotaTubuhPart1/Perut/perut_nur5.wav: 2\n",
            "194 /content/drive/MyDrive/BANGKIT/AnggotaTubuhPart1/Perut/perut_nurr.wav: 2\n",
            "195 /content/drive/MyDrive/BANGKIT/AnggotaTubuhPart1/Perut/perut_nurp.wav: 2\n",
            "196 /content/drive/MyDrive/BANGKIT/AnggotaTubuhPart1/Perut/perut_nuru.wav: 2\n",
            "197 /content/drive/MyDrive/BANGKIT/AnggotaTubuhPart1/Perut/perut zi (5).wav: 2\n",
            "198 /content/drive/MyDrive/BANGKIT/AnggotaTubuhPart1/Perut/perut zi (3).wav: 2\n",
            "199 /content/drive/MyDrive/BANGKIT/AnggotaTubuhPart1/Perut/perut zi (4).wav: 2\n",
            "200 /content/drive/MyDrive/BANGKIT/AnggotaTubuhPart1/Perut/perut zi (8).wav: 2\n",
            "201 /content/drive/MyDrive/BANGKIT/AnggotaTubuhPart1/Perut/perut zi (6).wav: 2\n",
            "202 /content/drive/MyDrive/BANGKIT/AnggotaTubuhPart1/Perut/perut zi (9).wav: 2\n",
            "203 /content/drive/MyDrive/BANGKIT/AnggotaTubuhPart1/Perut/perut zi (1).wav: 2\n",
            "204 /content/drive/MyDrive/BANGKIT/AnggotaTubuhPart1/Perut/perut zi (10).wav: 2\n",
            "205 /content/drive/MyDrive/BANGKIT/AnggotaTubuhPart1/Perut/perut zi (2).wav: 2\n",
            "206 /content/drive/MyDrive/BANGKIT/AnggotaTubuhPart1/Perut/perut_rna (2).wav: 2\n",
            "207 /content/drive/MyDrive/BANGKIT/AnggotaTubuhPart1/Perut/perut_rna (1).wav: 2\n",
            "208 /content/drive/MyDrive/BANGKIT/AnggotaTubuhPart1/Perut/perut_rna (3).wav: 2\n",
            "209 /content/drive/MyDrive/BANGKIT/AnggotaTubuhPart1/Perut/perut_rna (4).wav: 2\n",
            "210 /content/drive/MyDrive/BANGKIT/AnggotaTubuhPart1/Perut/perut_rna (5).wav: 2\n",
            "211 /content/drive/MyDrive/BANGKIT/AnggotaTubuhPart1/Perut/perut_rna (6).wav: 2\n",
            "212 /content/drive/MyDrive/BANGKIT/AnggotaTubuhPart1/Perut/perut_rna (8).wav: 2\n",
            "213 /content/drive/MyDrive/BANGKIT/AnggotaTubuhPart1/Perut/perut_rna (7).wav: 2\n",
            "214 /content/drive/MyDrive/BANGKIT/AnggotaTubuhPart1/Perut/perut_rna (9).wav: 2\n",
            "215 /content/drive/MyDrive/BANGKIT/AnggotaTubuhPart1/Perut/perut_rna (10).wav: 2\n",
            "216 /content/drive/MyDrive/BANGKIT/AnggotaTubuhPart1/Perut/perut_ (2).wav: 2\n",
            "217 /content/drive/MyDrive/BANGKIT/AnggotaTubuhPart1/Perut/perut_ (5).wav: 2\n",
            "218 /content/drive/MyDrive/BANGKIT/AnggotaTubuhPart1/Perut/perut_ (6).wav: 2\n",
            "219 /content/drive/MyDrive/BANGKIT/AnggotaTubuhPart1/Perut/perut_ (3).wav: 2\n",
            "220 /content/drive/MyDrive/BANGKIT/AnggotaTubuhPart1/Perut/perut_ (4).wav: 2\n",
            "221 /content/drive/MyDrive/BANGKIT/AnggotaTubuhPart1/Perut/perut_ (7).wav: 2\n",
            "222 /content/drive/MyDrive/BANGKIT/AnggotaTubuhPart1/Perut/perut_ (9).wav: 2\n",
            "223 /content/drive/MyDrive/BANGKIT/AnggotaTubuhPart1/Perut/perut_ (8).wav: 2\n",
            "224 /content/drive/MyDrive/BANGKIT/AnggotaTubuhPart1/Perut/perut_.wav: 2\n",
            "225 /content/drive/MyDrive/BANGKIT/AnggotaTubuhPart1/Perut/perut_ (10).wav: 2\n",
            "226 /content/drive/MyDrive/BANGKIT/AnggotaTubuhPart1/Perut/perut_rt1.wav: 2\n",
            "227 /content/drive/MyDrive/BANGKIT/AnggotaTubuhPart1/Perut/perut_rt2.wav: 2\n",
            "228 /content/drive/MyDrive/BANGKIT/AnggotaTubuhPart1/Perut/perut1_da (1).wav: 2\n",
            "229 /content/drive/MyDrive/BANGKIT/AnggotaTubuhPart1/Perut/perut1_da (2).wav: 2\n",
            "230 /content/drive/MyDrive/BANGKIT/AnggotaTubuhPart1/Perut/perut1_da (3).wav: 2\n",
            "231 /content/drive/MyDrive/BANGKIT/AnggotaTubuhPart1/Perut/perut_tj (2).wav: 2\n",
            "232 /content/drive/MyDrive/BANGKIT/AnggotaTubuhPart1/Perut/perut_tj (3).wav: 2\n",
            "233 /content/drive/MyDrive/BANGKIT/AnggotaTubuhPart1/Perut/perut_tj (1).wav: 2\n",
            "234 /content/drive/MyDrive/BANGKIT/AnggotaTubuhPart1/Perut/perut n (2).wav: 2\n",
            "235 /content/drive/MyDrive/BANGKIT/AnggotaTubuhPart1/Perut/perut n (1).wav: 2\n",
            "236 /content/drive/MyDrive/BANGKIT/AnggotaTubuhPart1/Perut/perut n (3).wav: 2\n",
            "237 /content/drive/MyDrive/BANGKIT/AnggotaTubuhPart1/Perut/perut n (5).wav: 2\n",
            "238 /content/drive/MyDrive/BANGKIT/AnggotaTubuhPart1/Perut/perut n (4).wav: 2\n",
            "239 /content/drive/MyDrive/BANGKIT/AnggotaTubuhPart1/Perut/perut n (8).wav: 2\n",
            "240 /content/drive/MyDrive/BANGKIT/AnggotaTubuhPart1/Perut/perut n (7).wav: 2\n",
            "241 /content/drive/MyDrive/BANGKIT/AnggotaTubuhPart1/Perut/perut n (6).wav: 2\n",
            "242 /content/drive/MyDrive/BANGKIT/AnggotaTubuhPart1/Perut/perut n (9).wav: 2\n",
            "243 /content/drive/MyDrive/BANGKIT/AnggotaTubuhPart1/Perut/perut n (10).wav: 2\n",
            "244 /content/drive/MyDrive/BANGKIT/AnggotaTubuhPart1/Perut/perut (1).wav: 2\n",
            "245 /content/drive/MyDrive/BANGKIT/AnggotaTubuhPart1/Perut/perut (3).wav: 2\n",
            "246 /content/drive/MyDrive/BANGKIT/AnggotaTubuhPart1/Perut/perut (4).wav: 2\n",
            "247 /content/drive/MyDrive/BANGKIT/AnggotaTubuhPart1/Perut/perut (2).wav: 2\n",
            "248 /content/drive/MyDrive/BANGKIT/AnggotaTubuhPart1/Perut/perut (5).wav: 2\n",
            "249 /content/drive/MyDrive/BANGKIT/AnggotaTubuhPart1/Perut/perut (8).wav: 2\n",
            "250 /content/drive/MyDrive/BANGKIT/AnggotaTubuhPart1/Perut/perut (6).wav: 2\n",
            "251 /content/drive/MyDrive/BANGKIT/AnggotaTubuhPart1/Perut/perut (7).wav: 2\n",
            "252 /content/drive/MyDrive/BANGKIT/AnggotaTubuhPart1/Perut/perut (10).wav: 2\n",
            "253 /content/drive/MyDrive/BANGKIT/AnggotaTubuhPart1/Perut/perut (9).wav: 2\n",
            "254 /content/drive/MyDrive/BANGKIT/AnggotaTubuhPart1/Perut/perut g (1).wav: 2\n",
            "255 /content/drive/MyDrive/BANGKIT/AnggotaTubuhPart1/Perut/perut g (2).wav: 2\n",
            "256 /content/drive/MyDrive/BANGKIT/AnggotaTubuhPart1/Perut/perut g (5).wav: 2\n",
            "257 /content/drive/MyDrive/BANGKIT/AnggotaTubuhPart1/Perut/perut g (4).wav: 2\n",
            "258 /content/drive/MyDrive/BANGKIT/AnggotaTubuhPart1/Perut/perut g (3).wav: 2\n",
            "259 /content/drive/MyDrive/BANGKIT/AnggotaTubuhPart1/Perut/perut g (6).wav: 2\n",
            "260 /content/drive/MyDrive/BANGKIT/AnggotaTubuhPart1/Perut/perut g (9).wav: 2\n",
            "261 /content/drive/MyDrive/BANGKIT/AnggotaTubuhPart1/Perut/perut g (7).wav: 2\n",
            "262 /content/drive/MyDrive/BANGKIT/AnggotaTubuhPart1/Perut/perut g (8).wav: 2\n",
            "263 /content/drive/MyDrive/BANGKIT/AnggotaTubuhPart1/Perut/perut g (10).wav: 2\n",
            "264 /content/drive/MyDrive/BANGKIT/AnggotaTubuhPart1/Perut/perut1_bg (1).wav: 2\n",
            "265 /content/drive/MyDrive/BANGKIT/AnggotaTubuhPart1/Perut/perut1_bg (2).wav: 2\n",
            "266 /content/drive/MyDrive/BANGKIT/AnggotaTubuhPart1/Perut/perut_alf (9).wav: 2\n",
            "267 /content/drive/MyDrive/BANGKIT/AnggotaTubuhPart1/Perut/perut_alf (8).wav: 2\n",
            "268 /content/drive/MyDrive/BANGKIT/AnggotaTubuhPart1/Perut/perut_alf (7).wav: 2\n",
            "269 /content/drive/MyDrive/BANGKIT/AnggotaTubuhPart1/Perut/perut_alf (6).wav: 2\n",
            "270 /content/drive/MyDrive/BANGKIT/AnggotaTubuhPart1/Perut/perut_alf (5).wav: 2\n",
            "271 /content/drive/MyDrive/BANGKIT/AnggotaTubuhPart1/Perut/perut_alf (4).wav: 2\n",
            "272 /content/drive/MyDrive/BANGKIT/AnggotaTubuhPart1/Perut/perut_alf (3).wav: 2\n",
            "273 /content/drive/MyDrive/BANGKIT/AnggotaTubuhPart1/Perut/perut_alf (2).wav: 2\n",
            "274 /content/drive/MyDrive/BANGKIT/AnggotaTubuhPart1/Perut/perut_alf (1).wav: 2\n",
            "275 /content/drive/MyDrive/BANGKIT/AnggotaTubuhPart1/Perut/perut_alf (10).wav: 2\n",
            "\n",
            "Processing: '['AnggotaTubuhPart1', 'Pipi']'\n",
            "276 /content/drive/MyDrive/BANGKIT/AnggotaTubuhPart1/Pipi/7_pipi-y.wav: 3\n",
            "277 /content/drive/MyDrive/BANGKIT/AnggotaTubuhPart1/Pipi/B-Pipi.wav: 3\n",
            "278 /content/drive/MyDrive/BANGKIT/AnggotaTubuhPart1/Pipi/Pipi1.wav: 3\n",
            "279 /content/drive/MyDrive/BANGKIT/AnggotaTubuhPart1/Pipi/Pipi4.wav: 3\n",
            "280 /content/drive/MyDrive/BANGKIT/AnggotaTubuhPart1/Pipi/Pipi5.wav: 3\n",
            "281 /content/drive/MyDrive/BANGKIT/AnggotaTubuhPart1/Pipi/AnyConv.com__pipi z.wav: 3\n",
            "282 /content/drive/MyDrive/BANGKIT/AnggotaTubuhPart1/Pipi/pipi_nur1.wav: 3\n",
            "283 /content/drive/MyDrive/BANGKIT/AnggotaTubuhPart1/Pipi/pipi_nur2.wav: 3\n",
            "284 /content/drive/MyDrive/BANGKIT/AnggotaTubuhPart1/Pipi/pipi_nur4.wav: 3\n",
            "285 /content/drive/MyDrive/BANGKIT/AnggotaTubuhPart1/Pipi/pipi_nur5.wav: 3\n",
            "286 /content/drive/MyDrive/BANGKIT/AnggotaTubuhPart1/Pipi/pipi_nurr.wav: 3\n",
            "287 /content/drive/MyDrive/BANGKIT/AnggotaTubuhPart1/Pipi/pipi_nurp.wav: 3\n",
            "288 /content/drive/MyDrive/BANGKIT/AnggotaTubuhPart1/Pipi/pipi_nuru.wav: 3\n",
            "289 /content/drive/MyDrive/BANGKIT/AnggotaTubuhPart1/Pipi/pipi zi (5).wav: 3\n",
            "290 /content/drive/MyDrive/BANGKIT/AnggotaTubuhPart1/Pipi/pipi zi (4).wav: 3\n",
            "291 /content/drive/MyDrive/BANGKIT/AnggotaTubuhPart1/Pipi/pipi zi (7).wav: 3\n",
            "292 /content/drive/MyDrive/BANGKIT/AnggotaTubuhPart1/Pipi/pipi zi (9).wav: 3\n",
            "293 /content/drive/MyDrive/BANGKIT/AnggotaTubuhPart1/Pipi/pipi zi (6).wav: 3\n",
            "294 /content/drive/MyDrive/BANGKIT/AnggotaTubuhPart1/Pipi/pipi zi (8).wav: 3\n",
            "295 /content/drive/MyDrive/BANGKIT/AnggotaTubuhPart1/Pipi/pipi zi (2).wav: 3\n",
            "296 /content/drive/MyDrive/BANGKIT/AnggotaTubuhPart1/Pipi/pipi zi (10).wav: 3\n",
            "297 /content/drive/MyDrive/BANGKIT/AnggotaTubuhPart1/Pipi/pipi zi (1).wav: 3\n",
            "298 /content/drive/MyDrive/BANGKIT/AnggotaTubuhPart1/Pipi/pipi zi (3).wav: 3\n",
            "299 /content/drive/MyDrive/BANGKIT/AnggotaTubuhPart1/Pipi/pipi_rna (1).wav: 3\n",
            "300 /content/drive/MyDrive/BANGKIT/AnggotaTubuhPart1/Pipi/pipi_rna (3).wav: 3\n",
            "301 /content/drive/MyDrive/BANGKIT/AnggotaTubuhPart1/Pipi/pipi_rna (2).wav: 3\n",
            "302 /content/drive/MyDrive/BANGKIT/AnggotaTubuhPart1/Pipi/pipi_rna (4).wav: 3\n",
            "303 /content/drive/MyDrive/BANGKIT/AnggotaTubuhPart1/Pipi/pipi_rna (5).wav: 3\n",
            "304 /content/drive/MyDrive/BANGKIT/AnggotaTubuhPart1/Pipi/pipi_rna (6).wav: 3\n",
            "305 /content/drive/MyDrive/BANGKIT/AnggotaTubuhPart1/Pipi/pipi_rna (8).wav: 3\n",
            "306 /content/drive/MyDrive/BANGKIT/AnggotaTubuhPart1/Pipi/pipi_rna (7).wav: 3\n",
            "307 /content/drive/MyDrive/BANGKIT/AnggotaTubuhPart1/Pipi/pipi_rna (9).wav: 3\n",
            "308 /content/drive/MyDrive/BANGKIT/AnggotaTubuhPart1/Pipi/pipi_rna (10).wav: 3\n",
            "309 /content/drive/MyDrive/BANGKIT/AnggotaTubuhPart1/Pipi/pipi_ (2).wav: 3\n",
            "310 /content/drive/MyDrive/BANGKIT/AnggotaTubuhPart1/Pipi/pipi_ (1).wav: 3\n",
            "311 /content/drive/MyDrive/BANGKIT/AnggotaTubuhPart1/Pipi/pipi_ (3).wav: 3\n",
            "312 /content/drive/MyDrive/BANGKIT/AnggotaTubuhPart1/Pipi/pipi_ (5).wav: 3\n",
            "313 /content/drive/MyDrive/BANGKIT/AnggotaTubuhPart1/Pipi/pipi_ (6).wav: 3\n",
            "314 /content/drive/MyDrive/BANGKIT/AnggotaTubuhPart1/Pipi/pipi_ (4).wav: 3\n",
            "315 /content/drive/MyDrive/BANGKIT/AnggotaTubuhPart1/Pipi/pipi_ (7).wav: 3\n",
            "316 /content/drive/MyDrive/BANGKIT/AnggotaTubuhPart1/Pipi/pipi_ (10).wav: 3\n",
            "317 /content/drive/MyDrive/BANGKIT/AnggotaTubuhPart1/Pipi/pipi_ (9).wav: 3\n",
            "318 /content/drive/MyDrive/BANGKIT/AnggotaTubuhPart1/Pipi/pipi_ (8).wav: 3\n",
            "319 /content/drive/MyDrive/BANGKIT/AnggotaTubuhPart1/Pipi/pipi_rt1.wav: 3\n",
            "320 /content/drive/MyDrive/BANGKIT/AnggotaTubuhPart1/Pipi/pipi_rt2.wav: 3\n",
            "321 /content/drive/MyDrive/BANGKIT/AnggotaTubuhPart1/Pipi/pipi1_da (1).wav: 3\n",
            "322 /content/drive/MyDrive/BANGKIT/AnggotaTubuhPart1/Pipi/pipi1_da (2).wav: 3\n",
            "323 /content/drive/MyDrive/BANGKIT/AnggotaTubuhPart1/Pipi/pipi1_da (3).wav: 3\n",
            "324 /content/drive/MyDrive/BANGKIT/AnggotaTubuhPart1/Pipi/pipi1_tj (1).wav: 3\n",
            "325 /content/drive/MyDrive/BANGKIT/AnggotaTubuhPart1/Pipi/pipi1_tj (2).wav: 3\n",
            "326 /content/drive/MyDrive/BANGKIT/AnggotaTubuhPart1/Pipi/pipi1_tj (3).wav: 3\n",
            "327 /content/drive/MyDrive/BANGKIT/AnggotaTubuhPart1/Pipi/pipi (3).wav: 3\n",
            "328 /content/drive/MyDrive/BANGKIT/AnggotaTubuhPart1/Pipi/pipi (1).wav: 3\n",
            "329 /content/drive/MyDrive/BANGKIT/AnggotaTubuhPart1/Pipi/pipi (2).wav: 3\n",
            "330 /content/drive/MyDrive/BANGKIT/AnggotaTubuhPart1/Pipi/pipi (4).wav: 3\n",
            "331 /content/drive/MyDrive/BANGKIT/AnggotaTubuhPart1/Pipi/pipi (5).wav: 3\n",
            "332 /content/drive/MyDrive/BANGKIT/AnggotaTubuhPart1/Pipi/pipi (7).wav: 3\n",
            "333 /content/drive/MyDrive/BANGKIT/AnggotaTubuhPart1/Pipi/pipi (6).wav: 3\n",
            "334 /content/drive/MyDrive/BANGKIT/AnggotaTubuhPart1/Pipi/pipi (10).wav: 3\n",
            "335 /content/drive/MyDrive/BANGKIT/AnggotaTubuhPart1/Pipi/pipi (9).wav: 3\n",
            "336 /content/drive/MyDrive/BANGKIT/AnggotaTubuhPart1/Pipi/pipi (8).wav: 3\n",
            "337 /content/drive/MyDrive/BANGKIT/AnggotaTubuhPart1/Pipi/pipi g (4).wav: 3\n",
            "338 /content/drive/MyDrive/BANGKIT/AnggotaTubuhPart1/Pipi/pipi g (3).wav: 3\n",
            "339 /content/drive/MyDrive/BANGKIT/AnggotaTubuhPart1/Pipi/pipi g (1).wav: 3\n",
            "340 /content/drive/MyDrive/BANGKIT/AnggotaTubuhPart1/Pipi/pipi g (7).wav: 3\n",
            "341 /content/drive/MyDrive/BANGKIT/AnggotaTubuhPart1/Pipi/pipi g (5).wav: 3\n",
            "342 /content/drive/MyDrive/BANGKIT/AnggotaTubuhPart1/Pipi/pipi g (6).wav: 3\n",
            "343 /content/drive/MyDrive/BANGKIT/AnggotaTubuhPart1/Pipi/pipi g (8).wav: 3\n",
            "344 /content/drive/MyDrive/BANGKIT/AnggotaTubuhPart1/Pipi/pipi g (10).wav: 3\n",
            "345 /content/drive/MyDrive/BANGKIT/AnggotaTubuhPart1/Pipi/pipi g (9).wav: 3\n",
            "346 /content/drive/MyDrive/BANGKIT/AnggotaTubuhPart1/Pipi/pipi2_bg (1).wav: 3\n",
            "347 /content/drive/MyDrive/BANGKIT/AnggotaTubuhPart1/Pipi/pipi2_bg (2).wav: 3\n",
            "348 /content/drive/MyDrive/BANGKIT/AnggotaTubuhPart1/Pipi/pipi_alf (4).wav: 3\n",
            "349 /content/drive/MyDrive/BANGKIT/AnggotaTubuhPart1/Pipi/pipi_alf (5).wav: 3\n",
            "350 /content/drive/MyDrive/BANGKIT/AnggotaTubuhPart1/Pipi/pipi_alf (6).wav: 3\n",
            "351 /content/drive/MyDrive/BANGKIT/AnggotaTubuhPart1/Pipi/pipi_alf (8).wav: 3\n",
            "352 /content/drive/MyDrive/BANGKIT/AnggotaTubuhPart1/Pipi/pipi_alf (9).wav: 3\n",
            "353 /content/drive/MyDrive/BANGKIT/AnggotaTubuhPart1/Pipi/pipi_alf (10).wav: 3\n",
            "354 /content/drive/MyDrive/BANGKIT/AnggotaTubuhPart1/Pipi/pipi_alf (3).wav: 3\n",
            "355 /content/drive/MyDrive/BANGKIT/AnggotaTubuhPart1/Pipi/pipi_alf (2).wav: 3\n",
            "356 /content/drive/MyDrive/BANGKIT/AnggotaTubuhPart1/Pipi/pipi_alf (7).wav: 3\n",
            "357 /content/drive/MyDrive/BANGKIT/AnggotaTubuhPart1/Pipi/pipi_alf (1).wav: 3\n",
            "\n",
            "Processing: '['AnggotaTubuhPart1', 'Telinga']'\n",
            "358 /content/drive/MyDrive/BANGKIT/AnggotaTubuhPart1/Telinga/telinga_aqib.wav: 4\n",
            "359 /content/drive/MyDrive/BANGKIT/AnggotaTubuhPart1/Telinga/Telinga4.wav: 4\n",
            "360 /content/drive/MyDrive/BANGKIT/AnggotaTubuhPart1/Telinga/Telinga5.wav: 4\n",
            "361 /content/drive/MyDrive/BANGKIT/AnggotaTubuhPart1/Telinga/AnyConv.com__telinga z.wav: 4\n",
            "362 /content/drive/MyDrive/BANGKIT/AnggotaTubuhPart1/Telinga/telinga_nur1.wav: 4\n",
            "363 /content/drive/MyDrive/BANGKIT/AnggotaTubuhPart1/Telinga/telinga_nur2.wav: 4\n",
            "364 /content/drive/MyDrive/BANGKIT/AnggotaTubuhPart1/Telinga/telinga_nur3.wav: 4\n",
            "365 /content/drive/MyDrive/BANGKIT/AnggotaTubuhPart1/Telinga/telinga_nur4.wav: 4\n",
            "366 /content/drive/MyDrive/BANGKIT/AnggotaTubuhPart1/Telinga/telinga_nur5.wav: 4\n",
            "367 /content/drive/MyDrive/BANGKIT/AnggotaTubuhPart1/Telinga/telinga_nurr.wav: 4\n",
            "368 /content/drive/MyDrive/BANGKIT/AnggotaTubuhPart1/Telinga/telinga_nurp.wav: 4\n",
            "369 /content/drive/MyDrive/BANGKIT/AnggotaTubuhPart1/Telinga/telinga_nuru.wav: 4\n",
            "370 /content/drive/MyDrive/BANGKIT/AnggotaTubuhPart1/Telinga/telinga zi (8).wav: 4\n",
            "371 /content/drive/MyDrive/BANGKIT/AnggotaTubuhPart1/Telinga/telinga zi (9).wav: 4\n",
            "372 /content/drive/MyDrive/BANGKIT/AnggotaTubuhPart1/Telinga/telinga zi (1).wav: 4\n",
            "373 /content/drive/MyDrive/BANGKIT/AnggotaTubuhPart1/Telinga/telinga zi (10).wav: 4\n",
            "374 /content/drive/MyDrive/BANGKIT/AnggotaTubuhPart1/Telinga/telinga zi (4).wav: 4\n",
            "375 /content/drive/MyDrive/BANGKIT/AnggotaTubuhPart1/Telinga/telinga zi (2).wav: 4\n",
            "376 /content/drive/MyDrive/BANGKIT/AnggotaTubuhPart1/Telinga/telinga zi (3).wav: 4\n",
            "377 /content/drive/MyDrive/BANGKIT/AnggotaTubuhPart1/Telinga/telinga zi (5).wav: 4\n",
            "378 /content/drive/MyDrive/BANGKIT/AnggotaTubuhPart1/Telinga/telinga zi (7).wav: 4\n",
            "379 /content/drive/MyDrive/BANGKIT/AnggotaTubuhPart1/Telinga/telinga zi (6).wav: 4\n",
            "380 /content/drive/MyDrive/BANGKIT/AnggotaTubuhPart1/Telinga/telinga_rna (1).wav: 4\n",
            "381 /content/drive/MyDrive/BANGKIT/AnggotaTubuhPart1/Telinga/telinga_rna (2).wav: 4\n",
            "382 /content/drive/MyDrive/BANGKIT/AnggotaTubuhPart1/Telinga/telinga_rna (3).wav: 4\n",
            "383 /content/drive/MyDrive/BANGKIT/AnggotaTubuhPart1/Telinga/telinga_rna (4).wav: 4\n",
            "384 /content/drive/MyDrive/BANGKIT/AnggotaTubuhPart1/Telinga/telinga_rna (6).wav: 4\n",
            "385 /content/drive/MyDrive/BANGKIT/AnggotaTubuhPart1/Telinga/telinga_rna (5).wav: 4\n",
            "386 /content/drive/MyDrive/BANGKIT/AnggotaTubuhPart1/Telinga/telinga_rna (7).wav: 4\n",
            "387 /content/drive/MyDrive/BANGKIT/AnggotaTubuhPart1/Telinga/telinga_rna (8).wav: 4\n",
            "388 /content/drive/MyDrive/BANGKIT/AnggotaTubuhPart1/Telinga/telinga_rna (9).wav: 4\n",
            "389 /content/drive/MyDrive/BANGKIT/AnggotaTubuhPart1/Telinga/telinga_rna (10).wav: 4\n",
            "390 /content/drive/MyDrive/BANGKIT/AnggotaTubuhPart1/Telinga/telinga_ (1).wav: 4\n",
            "391 /content/drive/MyDrive/BANGKIT/AnggotaTubuhPart1/Telinga/telinga_ (2).wav: 4\n",
            "392 /content/drive/MyDrive/BANGKIT/AnggotaTubuhPart1/Telinga/telinga_ (4).wav: 4\n",
            "393 /content/drive/MyDrive/BANGKIT/AnggotaTubuhPart1/Telinga/telinga_ (3).wav: 4\n",
            "394 /content/drive/MyDrive/BANGKIT/AnggotaTubuhPart1/Telinga/telinga_ (6).wav: 4\n",
            "395 /content/drive/MyDrive/BANGKIT/AnggotaTubuhPart1/Telinga/telinga_ (5).wav: 4\n",
            "396 /content/drive/MyDrive/BANGKIT/AnggotaTubuhPart1/Telinga/telinga_ (7).wav: 4\n",
            "397 /content/drive/MyDrive/BANGKIT/AnggotaTubuhPart1/Telinga/telinga_ (8).wav: 4\n",
            "398 /content/drive/MyDrive/BANGKIT/AnggotaTubuhPart1/Telinga/telinga_ (9).wav: 4\n",
            "399 /content/drive/MyDrive/BANGKIT/AnggotaTubuhPart1/Telinga/telinga_ (10).wav: 4\n",
            "400 /content/drive/MyDrive/BANGKIT/AnggotaTubuhPart1/Telinga/telinga_alf (10).wav: 4\n",
            "401 /content/drive/MyDrive/BANGKIT/AnggotaTubuhPart1/Telinga/telinga_alf (2).wav: 4\n",
            "402 /content/drive/MyDrive/BANGKIT/AnggotaTubuhPart1/Telinga/telinga_rt1.wav: 4\n",
            "403 /content/drive/MyDrive/BANGKIT/AnggotaTubuhPart1/Telinga/telinga_rt2.wav: 4\n",
            "404 /content/drive/MyDrive/BANGKIT/AnggotaTubuhPart1/Telinga/telingan2_da (2).wav: 4\n",
            "405 /content/drive/MyDrive/BANGKIT/AnggotaTubuhPart1/Telinga/telingan2_da (1).wav: 4\n",
            "406 /content/drive/MyDrive/BANGKIT/AnggotaTubuhPart1/Telinga/telingan2_da (3).wav: 4\n",
            "407 /content/drive/MyDrive/BANGKIT/AnggotaTubuhPart1/Telinga/telinga1_tj (1).wav: 4\n",
            "408 /content/drive/MyDrive/BANGKIT/AnggotaTubuhPart1/Telinga/telinga1_tj (2).wav: 4\n",
            "409 /content/drive/MyDrive/BANGKIT/AnggotaTubuhPart1/Telinga/telinga1_tj (3).wav: 4\n",
            "410 /content/drive/MyDrive/BANGKIT/AnggotaTubuhPart1/Telinga/telinga n (1).wav: 4\n",
            "411 /content/drive/MyDrive/BANGKIT/AnggotaTubuhPart1/Telinga/telinga n (2).wav: 4\n",
            "412 /content/drive/MyDrive/BANGKIT/AnggotaTubuhPart1/Telinga/telinga n (4).wav: 4\n",
            "413 /content/drive/MyDrive/BANGKIT/AnggotaTubuhPart1/Telinga/telinga n (3).wav: 4\n",
            "414 /content/drive/MyDrive/BANGKIT/AnggotaTubuhPart1/Telinga/telinga n (5).wav: 4\n",
            "415 /content/drive/MyDrive/BANGKIT/AnggotaTubuhPart1/Telinga/telinga n (7).wav: 4\n",
            "416 /content/drive/MyDrive/BANGKIT/AnggotaTubuhPart1/Telinga/telinga n (6).wav: 4\n",
            "417 /content/drive/MyDrive/BANGKIT/AnggotaTubuhPart1/Telinga/telinga n (9).wav: 4\n",
            "418 /content/drive/MyDrive/BANGKIT/AnggotaTubuhPart1/Telinga/telinga n (8).wav: 4\n",
            "419 /content/drive/MyDrive/BANGKIT/AnggotaTubuhPart1/Telinga/telinga n (10).wav: 4\n",
            "420 /content/drive/MyDrive/BANGKIT/AnggotaTubuhPart1/Telinga/telinga (2).wav: 4\n",
            "421 /content/drive/MyDrive/BANGKIT/AnggotaTubuhPart1/Telinga/telinga (1).wav: 4\n",
            "422 /content/drive/MyDrive/BANGKIT/AnggotaTubuhPart1/Telinga/telinga (3).wav: 4\n",
            "423 /content/drive/MyDrive/BANGKIT/AnggotaTubuhPart1/Telinga/telinga (4).wav: 4\n",
            "424 /content/drive/MyDrive/BANGKIT/AnggotaTubuhPart1/Telinga/telinga (5).wav: 4\n",
            "425 /content/drive/MyDrive/BANGKIT/AnggotaTubuhPart1/Telinga/telinga (7).wav: 4\n",
            "426 /content/drive/MyDrive/BANGKIT/AnggotaTubuhPart1/Telinga/telinga (6).wav: 4\n",
            "427 /content/drive/MyDrive/BANGKIT/AnggotaTubuhPart1/Telinga/telinga (8).wav: 4\n",
            "428 /content/drive/MyDrive/BANGKIT/AnggotaTubuhPart1/Telinga/telinga (9).wav: 4\n",
            "429 /content/drive/MyDrive/BANGKIT/AnggotaTubuhPart1/Telinga/telinga (10).wav: 4\n",
            "430 /content/drive/MyDrive/BANGKIT/AnggotaTubuhPart1/Telinga/telinga g (2).wav: 4\n",
            "431 /content/drive/MyDrive/BANGKIT/AnggotaTubuhPart1/Telinga/telinga g (4).wav: 4\n",
            "432 /content/drive/MyDrive/BANGKIT/AnggotaTubuhPart1/Telinga/telinga g (3).wav: 4\n",
            "433 /content/drive/MyDrive/BANGKIT/AnggotaTubuhPart1/Telinga/telinga g (1).wav: 4\n",
            "434 /content/drive/MyDrive/BANGKIT/AnggotaTubuhPart1/Telinga/telinga g (7).wav: 4\n",
            "435 /content/drive/MyDrive/BANGKIT/AnggotaTubuhPart1/Telinga/telinga g (5).wav: 4\n",
            "436 /content/drive/MyDrive/BANGKIT/AnggotaTubuhPart1/Telinga/telinga g (6).wav: 4\n",
            "437 /content/drive/MyDrive/BANGKIT/AnggotaTubuhPart1/Telinga/telinga g (8).wav: 4\n",
            "438 /content/drive/MyDrive/BANGKIT/AnggotaTubuhPart1/Telinga/telinga g (9).wav: 4\n",
            "439 /content/drive/MyDrive/BANGKIT/AnggotaTubuhPart1/Telinga/telinga g (10).wav: 4\n",
            "440 /content/drive/MyDrive/BANGKIT/AnggotaTubuhPart1/Telinga/telinga2_bg (1).wav: 4\n",
            "441 /content/drive/MyDrive/BANGKIT/AnggotaTubuhPart1/Telinga/telinga2_bg (2).wav: 4\n",
            "442 /content/drive/MyDrive/BANGKIT/AnggotaTubuhPart1/Telinga/telinga w6.wav: 4\n",
            "443 /content/drive/MyDrive/BANGKIT/AnggotaTubuhPart1/Telinga/telinga_alf (1).wav: 4\n",
            "444 /content/drive/MyDrive/BANGKIT/AnggotaTubuhPart1/Telinga/telinga_alf (9).wav: 4\n",
            "445 /content/drive/MyDrive/BANGKIT/AnggotaTubuhPart1/Telinga/telinga_alf (8).wav: 4\n",
            "446 /content/drive/MyDrive/BANGKIT/AnggotaTubuhPart1/Telinga/telinga_alf (7).wav: 4\n",
            "447 /content/drive/MyDrive/BANGKIT/AnggotaTubuhPart1/Telinga/telinga_alf (6).wav: 4\n",
            "448 /content/drive/MyDrive/BANGKIT/AnggotaTubuhPart1/Telinga/telinga_alf (5).wav: 4\n",
            "449 /content/drive/MyDrive/BANGKIT/AnggotaTubuhPart1/Telinga/telinga_alf (4).wav: 4\n",
            "450 /content/drive/MyDrive/BANGKIT/AnggotaTubuhPart1/Telinga/telinga_alf (3).wav: 4\n",
            "\n",
            "Processing: '['AnggotaTubuhPart1', 'Gigi']'\n",
            "451 /content/drive/MyDrive/BANGKIT/AnggotaTubuhPart1/Gigi/11_gigi-a.wav: 5\n",
            "452 /content/drive/MyDrive/BANGKIT/AnggotaTubuhPart1/Gigi/11_gigi-h.wav: 5\n",
            "453 /content/drive/MyDrive/BANGKIT/AnggotaTubuhPart1/Gigi/11_gigi-y.wav: 5\n",
            "454 /content/drive/MyDrive/BANGKIT/AnggotaTubuhPart1/Gigi/gigi_aqib.wav: 5\n",
            "455 /content/drive/MyDrive/BANGKIT/AnggotaTubuhPart1/Gigi/Gigi4.wav: 5\n",
            "456 /content/drive/MyDrive/BANGKIT/AnggotaTubuhPart1/Gigi/Gigi5.wav: 5\n",
            "457 /content/drive/MyDrive/BANGKIT/AnggotaTubuhPart1/Gigi/gigi_nur1.wav: 5\n",
            "458 /content/drive/MyDrive/BANGKIT/AnggotaTubuhPart1/Gigi/gigi_nur2.wav: 5\n",
            "459 /content/drive/MyDrive/BANGKIT/AnggotaTubuhPart1/Gigi/gigi_nur4.wav: 5\n",
            "460 /content/drive/MyDrive/BANGKIT/AnggotaTubuhPart1/Gigi/gigi_nur5.wav: 5\n",
            "461 /content/drive/MyDrive/BANGKIT/AnggotaTubuhPart1/Gigi/gigi_nurr.wav: 5\n",
            "462 /content/drive/MyDrive/BANGKIT/AnggotaTubuhPart1/Gigi/gigi_nurp.wav: 5\n",
            "463 /content/drive/MyDrive/BANGKIT/AnggotaTubuhPart1/Gigi/gigi_nuru.wav: 5\n",
            "464 /content/drive/MyDrive/BANGKIT/AnggotaTubuhPart1/Gigi/gigi zi (5).wav: 5\n",
            "465 /content/drive/MyDrive/BANGKIT/AnggotaTubuhPart1/Gigi/gigi zi (6).wav: 5\n",
            "466 /content/drive/MyDrive/BANGKIT/AnggotaTubuhPart1/Gigi/gigi zi (8).wav: 5\n",
            "467 /content/drive/MyDrive/BANGKIT/AnggotaTubuhPart1/Gigi/gigi zi (7).wav: 5\n",
            "468 /content/drive/MyDrive/BANGKIT/AnggotaTubuhPart1/Gigi/gigi zi (10).wav: 5\n",
            "469 /content/drive/MyDrive/BANGKIT/AnggotaTubuhPart1/Gigi/gigi zi (1).wav: 5\n",
            "470 /content/drive/MyDrive/BANGKIT/AnggotaTubuhPart1/Gigi/gigi zi (9).wav: 5\n",
            "471 /content/drive/MyDrive/BANGKIT/AnggotaTubuhPart1/Gigi/gigi zi (4).wav: 5\n",
            "472 /content/drive/MyDrive/BANGKIT/AnggotaTubuhPart1/Gigi/gigi zi (2).wav: 5\n",
            "473 /content/drive/MyDrive/BANGKIT/AnggotaTubuhPart1/Gigi/gigi zi (3).wav: 5\n",
            "474 /content/drive/MyDrive/BANGKIT/AnggotaTubuhPart1/Gigi/gigi_rna (4).wav: 5\n",
            "475 /content/drive/MyDrive/BANGKIT/AnggotaTubuhPart1/Gigi/gigi_rna (2).wav: 5\n",
            "476 /content/drive/MyDrive/BANGKIT/AnggotaTubuhPart1/Gigi/gigi_rna (1).wav: 5\n",
            "477 /content/drive/MyDrive/BANGKIT/AnggotaTubuhPart1/Gigi/gigi_rna (3).wav: 5\n",
            "478 /content/drive/MyDrive/BANGKIT/AnggotaTubuhPart1/Gigi/gigi_rna (6).wav: 5\n",
            "479 /content/drive/MyDrive/BANGKIT/AnggotaTubuhPart1/Gigi/gigi_rna (8).wav: 5\n",
            "480 /content/drive/MyDrive/BANGKIT/AnggotaTubuhPart1/Gigi/gigi_rna (7).wav: 5\n",
            "481 /content/drive/MyDrive/BANGKIT/AnggotaTubuhPart1/Gigi/gigi_rna (5).wav: 5\n",
            "482 /content/drive/MyDrive/BANGKIT/AnggotaTubuhPart1/Gigi/gigi_rna (10).wav: 5\n",
            "483 /content/drive/MyDrive/BANGKIT/AnggotaTubuhPart1/Gigi/gigi_rna (9).wav: 5\n",
            "484 /content/drive/MyDrive/BANGKIT/AnggotaTubuhPart1/Gigi/gigi_ (2).wav: 5\n",
            "485 /content/drive/MyDrive/BANGKIT/AnggotaTubuhPart1/Gigi/gigi_ (4).wav: 5\n",
            "486 /content/drive/MyDrive/BANGKIT/AnggotaTubuhPart1/Gigi/gigi_ (3).wav: 5\n",
            "487 /content/drive/MyDrive/BANGKIT/AnggotaTubuhPart1/Gigi/gigi_ (7).wav: 5\n",
            "488 /content/drive/MyDrive/BANGKIT/AnggotaTubuhPart1/Gigi/gigi_ (6).wav: 5\n",
            "489 /content/drive/MyDrive/BANGKIT/AnggotaTubuhPart1/Gigi/gigi_ (8).wav: 5\n",
            "490 /content/drive/MyDrive/BANGKIT/AnggotaTubuhPart1/Gigi/gigi_ (5).wav: 5\n",
            "491 /content/drive/MyDrive/BANGKIT/AnggotaTubuhPart1/Gigi/gigi_ (9).wav: 5\n",
            "492 /content/drive/MyDrive/BANGKIT/AnggotaTubuhPart1/Gigi/gigi_.wav: 5\n",
            "493 /content/drive/MyDrive/BANGKIT/AnggotaTubuhPart1/Gigi/gigi_ (10).wav: 5\n",
            "494 /content/drive/MyDrive/BANGKIT/AnggotaTubuhPart1/Gigi/gigi_alf.wav: 5\n",
            "495 /content/drive/MyDrive/BANGKIT/AnggotaTubuhPart1/Gigi/gigi_alf (2).wav: 5\n",
            "496 /content/drive/MyDrive/BANGKIT/AnggotaTubuhPart1/Gigi/gigi_alf (3).wav: 5\n",
            "497 /content/drive/MyDrive/BANGKIT/AnggotaTubuhPart1/Gigi/gigi_alf (4).wav: 5\n",
            "498 /content/drive/MyDrive/BANGKIT/AnggotaTubuhPart1/Gigi/gigi_alf (5).wav: 5\n",
            "499 /content/drive/MyDrive/BANGKIT/AnggotaTubuhPart1/Gigi/gigi_alf (6).wav: 5\n",
            "500 /content/drive/MyDrive/BANGKIT/AnggotaTubuhPart1/Gigi/gigi_alf (7).wav: 5\n",
            "501 /content/drive/MyDrive/BANGKIT/AnggotaTubuhPart1/Gigi/gigi_alf (9).wav: 5\n",
            "502 /content/drive/MyDrive/BANGKIT/AnggotaTubuhPart1/Gigi/gigi_alf (1).wav: 5\n",
            "503 /content/drive/MyDrive/BANGKIT/AnggotaTubuhPart1/Gigi/gigi_alf (8).wav: 5\n",
            "504 /content/drive/MyDrive/BANGKIT/AnggotaTubuhPart1/Gigi/gigi_rt1.wav: 5\n",
            "505 /content/drive/MyDrive/BANGKIT/AnggotaTubuhPart1/Gigi/gigi_rt2.wav: 5\n",
            "506 /content/drive/MyDrive/BANGKIT/AnggotaTubuhPart1/Gigi/gigi_da (1).wav: 5\n",
            "507 /content/drive/MyDrive/BANGKIT/AnggotaTubuhPart1/Gigi/gigi_da (2).wav: 5\n",
            "508 /content/drive/MyDrive/BANGKIT/AnggotaTubuhPart1/Gigi/gigi_da (3).wav: 5\n",
            "509 /content/drive/MyDrive/BANGKIT/AnggotaTubuhPart1/Gigi/gigi1_tj (1).wav: 5\n",
            "510 /content/drive/MyDrive/BANGKIT/AnggotaTubuhPart1/Gigi/gigi1_tj (2).wav: 5\n",
            "511 /content/drive/MyDrive/BANGKIT/AnggotaTubuhPart1/Gigi/gigi1_tj (3).wav: 5\n",
            "512 /content/drive/MyDrive/BANGKIT/AnggotaTubuhPart1/Gigi/gigi n (3).wav: 5\n",
            "513 /content/drive/MyDrive/BANGKIT/AnggotaTubuhPart1/Gigi/gigi n (2).wav: 5\n",
            "514 /content/drive/MyDrive/BANGKIT/AnggotaTubuhPart1/Gigi/gigi n (1).wav: 5\n",
            "515 /content/drive/MyDrive/BANGKIT/AnggotaTubuhPart1/Gigi/gigi n (6).wav: 5\n",
            "516 /content/drive/MyDrive/BANGKIT/AnggotaTubuhPart1/Gigi/gigi n (5).wav: 5\n",
            "517 /content/drive/MyDrive/BANGKIT/AnggotaTubuhPart1/Gigi/gigi n (4).wav: 5\n",
            "518 /content/drive/MyDrive/BANGKIT/AnggotaTubuhPart1/Gigi/gigi n (10).wav: 5\n",
            "519 /content/drive/MyDrive/BANGKIT/AnggotaTubuhPart1/Gigi/gigi n (8).wav: 5\n",
            "520 /content/drive/MyDrive/BANGKIT/AnggotaTubuhPart1/Gigi/gigi n (7).wav: 5\n",
            "521 /content/drive/MyDrive/BANGKIT/AnggotaTubuhPart1/Gigi/gigi n (9).wav: 5\n",
            "522 /content/drive/MyDrive/BANGKIT/AnggotaTubuhPart1/Gigi/gigi (1).wav: 5\n",
            "523 /content/drive/MyDrive/BANGKIT/AnggotaTubuhPart1/Gigi/gigi (3).wav: 5\n",
            "524 /content/drive/MyDrive/BANGKIT/AnggotaTubuhPart1/Gigi/gigi (4).wav: 5\n",
            "525 /content/drive/MyDrive/BANGKIT/AnggotaTubuhPart1/Gigi/gigi (5).wav: 5\n",
            "526 /content/drive/MyDrive/BANGKIT/AnggotaTubuhPart1/Gigi/gigi (2).wav: 5\n",
            "527 /content/drive/MyDrive/BANGKIT/AnggotaTubuhPart1/Gigi/gigi (8).wav: 5\n",
            "528 /content/drive/MyDrive/BANGKIT/AnggotaTubuhPart1/Gigi/gigi (6).wav: 5\n",
            "529 /content/drive/MyDrive/BANGKIT/AnggotaTubuhPart1/Gigi/gigi (7).wav: 5\n",
            "530 /content/drive/MyDrive/BANGKIT/AnggotaTubuhPart1/Gigi/gigi (9).wav: 5\n",
            "531 /content/drive/MyDrive/BANGKIT/AnggotaTubuhPart1/Gigi/gigi (10).wav: 5\n",
            "532 /content/drive/MyDrive/BANGKIT/AnggotaTubuhPart1/Gigi/gigi g (1).wav: 5\n",
            "533 /content/drive/MyDrive/BANGKIT/AnggotaTubuhPart1/Gigi/gigi g (4).wav: 5\n",
            "534 /content/drive/MyDrive/BANGKIT/AnggotaTubuhPart1/Gigi/gigi g (3).wav: 5\n",
            "535 /content/drive/MyDrive/BANGKIT/AnggotaTubuhPart1/Gigi/gigi g (2).wav: 5\n",
            "536 /content/drive/MyDrive/BANGKIT/AnggotaTubuhPart1/Gigi/gigi g (7).wav: 5\n",
            "537 /content/drive/MyDrive/BANGKIT/AnggotaTubuhPart1/Gigi/gigi g (5).wav: 5\n",
            "538 /content/drive/MyDrive/BANGKIT/AnggotaTubuhPart1/Gigi/gigi g (6).wav: 5\n",
            "539 /content/drive/MyDrive/BANGKIT/AnggotaTubuhPart1/Gigi/gigi g (8).wav: 5\n",
            "540 /content/drive/MyDrive/BANGKIT/AnggotaTubuhPart1/Gigi/gigi g (9).wav: 5\n",
            "541 /content/drive/MyDrive/BANGKIT/AnggotaTubuhPart1/Gigi/gigi g (10).wav: 5\n",
            "542 /content/drive/MyDrive/BANGKIT/AnggotaTubuhPart1/Gigi/gigi_bg (1).wav: 5\n",
            "543 /content/drive/MyDrive/BANGKIT/AnggotaTubuhPart1/Gigi/gigi_bg (2).wav: 5\n",
            "\n",
            "Processing: '['AnggotaTubuhPart1', 'Hidung']'\n",
            "544 /content/drive/MyDrive/BANGKIT/AnggotaTubuhPart1/Hidung/1_hidung-y.wav: 6\n",
            "545 /content/drive/MyDrive/BANGKIT/AnggotaTubuhPart1/Hidung/1_hidung-s.wav: 6\n",
            "546 /content/drive/MyDrive/BANGKIT/AnggotaTubuhPart1/Hidung/1_hidung-a.wav: 6\n",
            "547 /content/drive/MyDrive/BANGKIT/AnggotaTubuhPart1/Hidung/1_hidung-h.wav: 6\n",
            "548 /content/drive/MyDrive/BANGKIT/AnggotaTubuhPart1/Hidung/B-Hidung.wav: 6\n",
            "549 /content/drive/MyDrive/BANGKIT/AnggotaTubuhPart1/Hidung/hidung_aqib.wav: 6\n",
            "550 /content/drive/MyDrive/BANGKIT/AnggotaTubuhPart1/Hidung/Hidung4.wav: 6\n",
            "551 /content/drive/MyDrive/BANGKIT/AnggotaTubuhPart1/Hidung/Hidung5.wav: 6\n",
            "552 /content/drive/MyDrive/BANGKIT/AnggotaTubuhPart1/Hidung/hidung_nur1.wav: 6\n",
            "553 /content/drive/MyDrive/BANGKIT/AnggotaTubuhPart1/Hidung/hidung_nur2.wav: 6\n",
            "554 /content/drive/MyDrive/BANGKIT/AnggotaTubuhPart1/Hidung/hidung_nur3.wav: 6\n",
            "555 /content/drive/MyDrive/BANGKIT/AnggotaTubuhPart1/Hidung/hidung_nur4.wav: 6\n",
            "556 /content/drive/MyDrive/BANGKIT/AnggotaTubuhPart1/Hidung/hidung_nur5.wav: 6\n",
            "557 /content/drive/MyDrive/BANGKIT/AnggotaTubuhPart1/Hidung/hidung_nurr.wav: 6\n",
            "558 /content/drive/MyDrive/BANGKIT/AnggotaTubuhPart1/Hidung/hidung_nurp.wav: 6\n",
            "559 /content/drive/MyDrive/BANGKIT/AnggotaTubuhPart1/Hidung/hidung_nuru.wav: 6\n",
            "560 /content/drive/MyDrive/BANGKIT/AnggotaTubuhPart1/Hidung/hidung zi (8).wav: 6\n",
            "561 /content/drive/MyDrive/BANGKIT/AnggotaTubuhPart1/Hidung/hidung zi (10).wav: 6\n",
            "562 /content/drive/MyDrive/BANGKIT/AnggotaTubuhPart1/Hidung/hidung zi (9).wav: 6\n",
            "563 /content/drive/MyDrive/BANGKIT/AnggotaTubuhPart1/Hidung/hidung zi (2).wav: 6\n",
            "564 /content/drive/MyDrive/BANGKIT/AnggotaTubuhPart1/Hidung/hidung zi (1).wav: 6\n",
            "565 /content/drive/MyDrive/BANGKIT/AnggotaTubuhPart1/Hidung/hidung zi (3).wav: 6\n",
            "566 /content/drive/MyDrive/BANGKIT/AnggotaTubuhPart1/Hidung/hidung zi (5).wav: 6\n",
            "567 /content/drive/MyDrive/BANGKIT/AnggotaTubuhPart1/Hidung/hidung zi (4).wav: 6\n",
            "568 /content/drive/MyDrive/BANGKIT/AnggotaTubuhPart1/Hidung/hidung zi (7).wav: 6\n",
            "569 /content/drive/MyDrive/BANGKIT/AnggotaTubuhPart1/Hidung/hidung zi (6).wav: 6\n",
            "570 /content/drive/MyDrive/BANGKIT/AnggotaTubuhPart1/Hidung/HIDUNG_RNA (1).wav: 6\n",
            "571 /content/drive/MyDrive/BANGKIT/AnggotaTubuhPart1/Hidung/HIDUNG_RNA (2).wav: 6\n",
            "572 /content/drive/MyDrive/BANGKIT/AnggotaTubuhPart1/Hidung/HIDUNG_RNA (5).wav: 6\n",
            "573 /content/drive/MyDrive/BANGKIT/AnggotaTubuhPart1/Hidung/HIDUNG_RNA (4).wav: 6\n",
            "574 /content/drive/MyDrive/BANGKIT/AnggotaTubuhPart1/Hidung/HIDUNG_RNA (3).wav: 6\n",
            "575 /content/drive/MyDrive/BANGKIT/AnggotaTubuhPart1/Hidung/HIDUNG_RNA (6).wav: 6\n",
            "576 /content/drive/MyDrive/BANGKIT/AnggotaTubuhPart1/Hidung/HIDUNG_RNA (9).wav: 6\n",
            "577 /content/drive/MyDrive/BANGKIT/AnggotaTubuhPart1/Hidung/HIDUNG_RNA (8).wav: 6\n",
            "578 /content/drive/MyDrive/BANGKIT/AnggotaTubuhPart1/Hidung/HIDUNG_RNA (7).wav: 6\n",
            "579 /content/drive/MyDrive/BANGKIT/AnggotaTubuhPart1/Hidung/HIDUNG_RNA (10).wav: 6\n",
            "580 /content/drive/MyDrive/BANGKIT/AnggotaTubuhPart1/Hidung/hidung_ (4).wav: 6\n",
            "581 /content/drive/MyDrive/BANGKIT/AnggotaTubuhPart1/Hidung/hidung_ (3).wav: 6\n",
            "582 /content/drive/MyDrive/BANGKIT/AnggotaTubuhPart1/Hidung/hidung_ (6).wav: 6\n",
            "583 /content/drive/MyDrive/BANGKIT/AnggotaTubuhPart1/Hidung/hidung_ (7).wav: 6\n",
            "584 /content/drive/MyDrive/BANGKIT/AnggotaTubuhPart1/Hidung/hidung_ (8).wav: 6\n",
            "585 /content/drive/MyDrive/BANGKIT/AnggotaTubuhPart1/Hidung/hidung_ (5).wav: 6\n",
            "586 /content/drive/MyDrive/BANGKIT/AnggotaTubuhPart1/Hidung/hidung_ (10).wav: 6\n",
            "587 /content/drive/MyDrive/BANGKIT/AnggotaTubuhPart1/Hidung/hidung_.wav: 6\n",
            "588 /content/drive/MyDrive/BANGKIT/AnggotaTubuhPart1/Hidung/hidung_ (9).wav: 6\n",
            "589 /content/drive/MyDrive/BANGKIT/AnggotaTubuhPart1/Hidung/hidung_ (2).wav: 6\n",
            "590 /content/drive/MyDrive/BANGKIT/AnggotaTubuhPart1/Hidung/hidung_alf (1).wav: 6\n",
            "591 /content/drive/MyDrive/BANGKIT/AnggotaTubuhPart1/Hidung/hidung_alf (2).wav: 6\n",
            "592 /content/drive/MyDrive/BANGKIT/AnggotaTubuhPart1/Hidung/hidung_alf (3).wav: 6\n",
            "593 /content/drive/MyDrive/BANGKIT/AnggotaTubuhPart1/Hidung/hidung_alf (5).wav: 6\n",
            "594 /content/drive/MyDrive/BANGKIT/AnggotaTubuhPart1/Hidung/hidung_alf (7).wav: 6\n",
            "595 /content/drive/MyDrive/BANGKIT/AnggotaTubuhPart1/Hidung/hidung_alf (9).wav: 6\n",
            "596 /content/drive/MyDrive/BANGKIT/AnggotaTubuhPart1/Hidung/hidung_alf (10).wav: 6\n",
            "597 /content/drive/MyDrive/BANGKIT/AnggotaTubuhPart1/Hidung/hidung_alf (4).wav: 6\n",
            "598 /content/drive/MyDrive/BANGKIT/AnggotaTubuhPart1/Hidung/hidung_alf (6).wav: 6\n",
            "599 /content/drive/MyDrive/BANGKIT/AnggotaTubuhPart1/Hidung/hidung_alf (8).wav: 6\n",
            "600 /content/drive/MyDrive/BANGKIT/AnggotaTubuhPart1/Hidung/hidung_rt1.wav: 6\n",
            "601 /content/drive/MyDrive/BANGKIT/AnggotaTubuhPart1/Hidung/hidung_rt2.wav: 6\n",
            "602 /content/drive/MyDrive/BANGKIT/AnggotaTubuhPart1/Hidung/hidung_da (1).wav: 6\n",
            "603 /content/drive/MyDrive/BANGKIT/AnggotaTubuhPart1/Hidung/hidung_da (2).wav: 6\n",
            "604 /content/drive/MyDrive/BANGKIT/AnggotaTubuhPart1/Hidung/hidung_da (3).wav: 6\n",
            "605 /content/drive/MyDrive/BANGKIT/AnggotaTubuhPart1/Hidung/hidung1_tj (1).wav: 6\n",
            "606 /content/drive/MyDrive/BANGKIT/AnggotaTubuhPart1/Hidung/hidung1_tj (2).wav: 6\n",
            "607 /content/drive/MyDrive/BANGKIT/AnggotaTubuhPart1/Hidung/hidung1_tj (3).wav: 6\n",
            "608 /content/drive/MyDrive/BANGKIT/AnggotaTubuhPart1/Hidung/hidung n (2).wav: 6\n",
            "609 /content/drive/MyDrive/BANGKIT/AnggotaTubuhPart1/Hidung/hidung n (3).wav: 6\n",
            "610 /content/drive/MyDrive/BANGKIT/AnggotaTubuhPart1/Hidung/hidung n (1).wav: 6\n",
            "611 /content/drive/MyDrive/BANGKIT/AnggotaTubuhPart1/Hidung/hidung n (5).wav: 6\n",
            "612 /content/drive/MyDrive/BANGKIT/AnggotaTubuhPart1/Hidung/hidung n (4).wav: 6\n",
            "613 /content/drive/MyDrive/BANGKIT/AnggotaTubuhPart1/Hidung/hidung n (6).wav: 6\n",
            "614 /content/drive/MyDrive/BANGKIT/AnggotaTubuhPart1/Hidung/hidung n (7).wav: 6\n",
            "615 /content/drive/MyDrive/BANGKIT/AnggotaTubuhPart1/Hidung/hidung n (8).wav: 6\n",
            "616 /content/drive/MyDrive/BANGKIT/AnggotaTubuhPart1/Hidung/hidung n (10).wav: 6\n",
            "617 /content/drive/MyDrive/BANGKIT/AnggotaTubuhPart1/Hidung/hidung n (9).wav: 6\n",
            "618 /content/drive/MyDrive/BANGKIT/AnggotaTubuhPart1/Hidung/hidung (1).wav: 6\n",
            "619 /content/drive/MyDrive/BANGKIT/AnggotaTubuhPart1/Hidung/hidung (2).wav: 6\n",
            "620 /content/drive/MyDrive/BANGKIT/AnggotaTubuhPart1/Hidung/hidung (6).wav: 6\n",
            "621 /content/drive/MyDrive/BANGKIT/AnggotaTubuhPart1/Hidung/hidung (3).wav: 6\n",
            "622 /content/drive/MyDrive/BANGKIT/AnggotaTubuhPart1/Hidung/hidung (5).wav: 6\n",
            "623 /content/drive/MyDrive/BANGKIT/AnggotaTubuhPart1/Hidung/hidung (4).wav: 6\n",
            "624 /content/drive/MyDrive/BANGKIT/AnggotaTubuhPart1/Hidung/hidung (7).wav: 6\n",
            "625 /content/drive/MyDrive/BANGKIT/AnggotaTubuhPart1/Hidung/hidung (9).wav: 6\n",
            "626 /content/drive/MyDrive/BANGKIT/AnggotaTubuhPart1/Hidung/hidung (10).wav: 6\n",
            "627 /content/drive/MyDrive/BANGKIT/AnggotaTubuhPart1/Hidung/hidung (8).wav: 6\n",
            "628 /content/drive/MyDrive/BANGKIT/AnggotaTubuhPart1/Hidung/hidung_bgs1.wav: 6\n",
            "629 /content/drive/MyDrive/BANGKIT/AnggotaTubuhPart1/Hidung/hidung g (2).wav: 6\n",
            "630 /content/drive/MyDrive/BANGKIT/AnggotaTubuhPart1/Hidung/hidung g (1).wav: 6\n",
            "631 /content/drive/MyDrive/BANGKIT/AnggotaTubuhPart1/Hidung/hidung g (5).wav: 6\n",
            "632 /content/drive/MyDrive/BANGKIT/AnggotaTubuhPart1/Hidung/hidung g (3).wav: 6\n",
            "633 /content/drive/MyDrive/BANGKIT/AnggotaTubuhPart1/Hidung/hidung g (6).wav: 6\n",
            "634 /content/drive/MyDrive/BANGKIT/AnggotaTubuhPart1/Hidung/hidung g (4).wav: 6\n",
            "635 /content/drive/MyDrive/BANGKIT/AnggotaTubuhPart1/Hidung/hidung g (8).wav: 6\n",
            "636 /content/drive/MyDrive/BANGKIT/AnggotaTubuhPart1/Hidung/hidung g (7).wav: 6\n",
            "637 /content/drive/MyDrive/BANGKIT/AnggotaTubuhPart1/Hidung/hidung g (9).wav: 6\n",
            "638 /content/drive/MyDrive/BANGKIT/AnggotaTubuhPart1/Hidung/hidung g (10).wav: 6\n",
            "639 /content/drive/MyDrive/BANGKIT/AnggotaTubuhPart1/Hidung/hidung_bgs2.wav: 6\n",
            "640 /content/drive/MyDrive/BANGKIT/AnggotaTubuhPart1/Hidung/hidung w3.wav: 6\n",
            "641 /content/drive/MyDrive/BANGKIT/AnggotaTubuhPart1/Hidung/hidung w5.wav: 6\n",
            "642 /content/drive/MyDrive/BANGKIT/AnggotaTubuhPart1/Hidung/hidung w6.wav: 6\n",
            "\n",
            "Processing: '['AnggotaTubuhPart1', 'Jari']'\n",
            "643 /content/drive/MyDrive/BANGKIT/AnggotaTubuhPart1/Jari/9_jari-y.wav: 7\n",
            "644 /content/drive/MyDrive/BANGKIT/AnggotaTubuhPart1/Jari/Jari2Cadel(r).wav: 7\n",
            "645 /content/drive/MyDrive/BANGKIT/AnggotaTubuhPart1/Jari/Jari4.wav: 7\n",
            "646 /content/drive/MyDrive/BANGKIT/AnggotaTubuhPart1/Jari/Jari5.wav: 7\n",
            "647 /content/drive/MyDrive/BANGKIT/AnggotaTubuhPart1/Jari/jari_nur1.wav: 7\n",
            "648 /content/drive/MyDrive/BANGKIT/AnggotaTubuhPart1/Jari/jari_nur2.wav: 7\n",
            "649 /content/drive/MyDrive/BANGKIT/AnggotaTubuhPart1/Jari/jari_nur4.wav: 7\n",
            "650 /content/drive/MyDrive/BANGKIT/AnggotaTubuhPart1/Jari/jari_nur5.wav: 7\n",
            "651 /content/drive/MyDrive/BANGKIT/AnggotaTubuhPart1/Jari/jari_nurr.wav: 7\n",
            "652 /content/drive/MyDrive/BANGKIT/AnggotaTubuhPart1/Jari/jari_nurp.wav: 7\n",
            "653 /content/drive/MyDrive/BANGKIT/AnggotaTubuhPart1/Jari/jari_nuru.wav: 7\n",
            "654 /content/drive/MyDrive/BANGKIT/AnggotaTubuhPart1/Jari/jari zi (4).wav: 7\n",
            "655 /content/drive/MyDrive/BANGKIT/AnggotaTubuhPart1/Jari/jari zi (5).wav: 7\n",
            "656 /content/drive/MyDrive/BANGKIT/AnggotaTubuhPart1/Jari/jari zi (8).wav: 7\n",
            "657 /content/drive/MyDrive/BANGKIT/AnggotaTubuhPart1/Jari/jari zi (6).wav: 7\n",
            "658 /content/drive/MyDrive/BANGKIT/AnggotaTubuhPart1/Jari/jari zi (7).wav: 7\n",
            "659 /content/drive/MyDrive/BANGKIT/AnggotaTubuhPart1/Jari/jari zi (9).wav: 7\n",
            "660 /content/drive/MyDrive/BANGKIT/AnggotaTubuhPart1/Jari/jari zi (10).wav: 7\n",
            "661 /content/drive/MyDrive/BANGKIT/AnggotaTubuhPart1/Jari/jari zi (2).wav: 7\n",
            "662 /content/drive/MyDrive/BANGKIT/AnggotaTubuhPart1/Jari/jari zi (3).wav: 7\n",
            "663 /content/drive/MyDrive/BANGKIT/AnggotaTubuhPart1/Jari/jari zi (1).wav: 7\n",
            "664 /content/drive/MyDrive/BANGKIT/AnggotaTubuhPart1/Jari/JARI_RNA (2).wav: 7\n",
            "665 /content/drive/MyDrive/BANGKIT/AnggotaTubuhPart1/Jari/JARI_RNA (3).wav: 7\n",
            "666 /content/drive/MyDrive/BANGKIT/AnggotaTubuhPart1/Jari/JARI_RNA (1).wav: 7\n",
            "667 /content/drive/MyDrive/BANGKIT/AnggotaTubuhPart1/Jari/JARI_RNA (5).wav: 7\n",
            "668 /content/drive/MyDrive/BANGKIT/AnggotaTubuhPart1/Jari/JARI_RNA (6).wav: 7\n",
            "669 /content/drive/MyDrive/BANGKIT/AnggotaTubuhPart1/Jari/JARI_RNA (4).wav: 7\n",
            "670 /content/drive/MyDrive/BANGKIT/AnggotaTubuhPart1/Jari/JARI_RNA (7).wav: 7\n",
            "671 /content/drive/MyDrive/BANGKIT/AnggotaTubuhPart1/Jari/JARI_RNA (9).wav: 7\n",
            "672 /content/drive/MyDrive/BANGKIT/AnggotaTubuhPart1/Jari/JARI_RNA (8).wav: 7\n",
            "673 /content/drive/MyDrive/BANGKIT/AnggotaTubuhPart1/Jari/JARI_RNA (10).wav: 7\n",
            "674 /content/drive/MyDrive/BANGKIT/AnggotaTubuhPart1/Jari/Jari_ (2).wav: 7\n",
            "675 /content/drive/MyDrive/BANGKIT/AnggotaTubuhPart1/Jari/Jari_ (3).wav: 7\n",
            "676 /content/drive/MyDrive/BANGKIT/AnggotaTubuhPart1/Jari/Jari_ (5).wav: 7\n",
            "677 /content/drive/MyDrive/BANGKIT/AnggotaTubuhPart1/Jari/Jari_ (4).wav: 7\n",
            "678 /content/drive/MyDrive/BANGKIT/AnggotaTubuhPart1/Jari/Jari_ (9).wav: 7\n",
            "679 /content/drive/MyDrive/BANGKIT/AnggotaTubuhPart1/Jari/Jari_ (8).wav: 7\n",
            "680 /content/drive/MyDrive/BANGKIT/AnggotaTubuhPart1/Jari/Jari_ (6).wav: 7\n",
            "681 /content/drive/MyDrive/BANGKIT/AnggotaTubuhPart1/Jari/Jari_ (7).wav: 7\n",
            "682 /content/drive/MyDrive/BANGKIT/AnggotaTubuhPart1/Jari/Jari_.wav: 7\n",
            "683 /content/drive/MyDrive/BANGKIT/AnggotaTubuhPart1/Jari/Jari_ (10).wav: 7\n",
            "684 /content/drive/MyDrive/BANGKIT/AnggotaTubuhPart1/Jari/jari_alf (1).wav: 7\n",
            "685 /content/drive/MyDrive/BANGKIT/AnggotaTubuhPart1/Jari/jari_alf (10).wav: 7\n",
            "686 /content/drive/MyDrive/BANGKIT/AnggotaTubuhPart1/Jari/jari_alf (9).wav: 7\n",
            "687 /content/drive/MyDrive/BANGKIT/AnggotaTubuhPart1/Jari/jari_alf (8).wav: 7\n",
            "688 /content/drive/MyDrive/BANGKIT/AnggotaTubuhPart1/Jari/jari_alf (7).wav: 7\n",
            "689 /content/drive/MyDrive/BANGKIT/AnggotaTubuhPart1/Jari/jari_alf (6).wav: 7\n",
            "690 /content/drive/MyDrive/BANGKIT/AnggotaTubuhPart1/Jari/jari_alf (5).wav: 7\n",
            "691 /content/drive/MyDrive/BANGKIT/AnggotaTubuhPart1/Jari/jari_alf (4).wav: 7\n",
            "692 /content/drive/MyDrive/BANGKIT/AnggotaTubuhPart1/Jari/jari_alf (3).wav: 7\n",
            "693 /content/drive/MyDrive/BANGKIT/AnggotaTubuhPart1/Jari/jari_alf (2).wav: 7\n",
            "694 /content/drive/MyDrive/BANGKIT/AnggotaTubuhPart1/Jari/jari_rt1.wav: 7\n",
            "695 /content/drive/MyDrive/BANGKIT/AnggotaTubuhPart1/Jari/jari_rt2.wav: 7\n",
            "696 /content/drive/MyDrive/BANGKIT/AnggotaTubuhPart1/Jari/jari_da (2).wav: 7\n",
            "697 /content/drive/MyDrive/BANGKIT/AnggotaTubuhPart1/Jari/jari_da (3).wav: 7\n",
            "698 /content/drive/MyDrive/BANGKIT/AnggotaTubuhPart1/Jari/jari_da (1).wav: 7\n",
            "699 /content/drive/MyDrive/BANGKIT/AnggotaTubuhPart1/Jari/jari1_tj (1).wav: 7\n",
            "700 /content/drive/MyDrive/BANGKIT/AnggotaTubuhPart1/Jari/jari1_tj (2).wav: 7\n",
            "701 /content/drive/MyDrive/BANGKIT/AnggotaTubuhPart1/Jari/jari1_tj (3).wav: 7\n",
            "702 /content/drive/MyDrive/BANGKIT/AnggotaTubuhPart1/Jari/jari n (2).wav: 7\n",
            "703 /content/drive/MyDrive/BANGKIT/AnggotaTubuhPart1/Jari/jari n (3).wav: 7\n",
            "704 /content/drive/MyDrive/BANGKIT/AnggotaTubuhPart1/Jari/jari n (1).wav: 7\n",
            "705 /content/drive/MyDrive/BANGKIT/AnggotaTubuhPart1/Jari/jari n (5).wav: 7\n",
            "706 /content/drive/MyDrive/BANGKIT/AnggotaTubuhPart1/Jari/jari n (7).wav: 7\n",
            "707 /content/drive/MyDrive/BANGKIT/AnggotaTubuhPart1/Jari/jari n (4).wav: 7\n",
            "708 /content/drive/MyDrive/BANGKIT/AnggotaTubuhPart1/Jari/jari n (6).wav: 7\n",
            "709 /content/drive/MyDrive/BANGKIT/AnggotaTubuhPart1/Jari/jari n (8).wav: 7\n",
            "710 /content/drive/MyDrive/BANGKIT/AnggotaTubuhPart1/Jari/jari n (10).wav: 7\n",
            "711 /content/drive/MyDrive/BANGKIT/AnggotaTubuhPart1/Jari/jari n (9).wav: 7\n",
            "712 /content/drive/MyDrive/BANGKIT/AnggotaTubuhPart1/Jari/jari (3).wav: 7\n",
            "713 /content/drive/MyDrive/BANGKIT/AnggotaTubuhPart1/Jari/jari (1).wav: 7\n",
            "714 /content/drive/MyDrive/BANGKIT/AnggotaTubuhPart1/Jari/jari (2).wav: 7\n",
            "715 /content/drive/MyDrive/BANGKIT/AnggotaTubuhPart1/Jari/jari (4).wav: 7\n",
            "716 /content/drive/MyDrive/BANGKIT/AnggotaTubuhPart1/Jari/jari (6).wav: 7\n",
            "717 /content/drive/MyDrive/BANGKIT/AnggotaTubuhPart1/Jari/jari (7).wav: 7\n",
            "718 /content/drive/MyDrive/BANGKIT/AnggotaTubuhPart1/Jari/jari (5).wav: 7\n",
            "719 /content/drive/MyDrive/BANGKIT/AnggotaTubuhPart1/Jari/jari (9).wav: 7\n",
            "720 /content/drive/MyDrive/BANGKIT/AnggotaTubuhPart1/Jari/jari (8).wav: 7\n",
            "721 /content/drive/MyDrive/BANGKIT/AnggotaTubuhPart1/Jari/jari (10).wav: 7\n",
            "722 /content/drive/MyDrive/BANGKIT/AnggotaTubuhPart1/Jari/jari g (2).wav: 7\n",
            "723 /content/drive/MyDrive/BANGKIT/AnggotaTubuhPart1/Jari/jari g (3).wav: 7\n",
            "724 /content/drive/MyDrive/BANGKIT/AnggotaTubuhPart1/Jari/jari g (5).wav: 7\n",
            "725 /content/drive/MyDrive/BANGKIT/AnggotaTubuhPart1/Jari/jari g (6).wav: 7\n",
            "726 /content/drive/MyDrive/BANGKIT/AnggotaTubuhPart1/Jari/jari g (4).wav: 7\n",
            "727 /content/drive/MyDrive/BANGKIT/AnggotaTubuhPart1/Jari/jari g (10).wav: 7\n",
            "728 /content/drive/MyDrive/BANGKIT/AnggotaTubuhPart1/Jari/jari g (7).wav: 7\n",
            "729 /content/drive/MyDrive/BANGKIT/AnggotaTubuhPart1/Jari/jari g (8).wav: 7\n",
            "730 /content/drive/MyDrive/BANGKIT/AnggotaTubuhPart1/Jari/jari g (9).wav: 7\n",
            "731 /content/drive/MyDrive/BANGKIT/AnggotaTubuhPart1/Jari/jari1_bg (1).wav: 7\n",
            "732 /content/drive/MyDrive/BANGKIT/AnggotaTubuhPart1/Jari/jari1_bg (2).wav: 7\n",
            "\n",
            "Processing: '['AnggotaTubuhPart1', 'Lidah']'\n",
            "733 /content/drive/MyDrive/BANGKIT/AnggotaTubuhPart1/Lidah/12_lidah-h.wav: 8\n",
            "734 /content/drive/MyDrive/BANGKIT/AnggotaTubuhPart1/Lidah/12_lidah-y.wav: 8\n",
            "735 /content/drive/MyDrive/BANGKIT/AnggotaTubuhPart1/Lidah/lidah_Aqib.wav: 8\n",
            "736 /content/drive/MyDrive/BANGKIT/AnggotaTubuhPart1/Lidah/Lidah4.wav: 8\n",
            "737 /content/drive/MyDrive/BANGKIT/AnggotaTubuhPart1/Lidah/Lidah5.wav: 8\n",
            "738 /content/drive/MyDrive/BANGKIT/AnggotaTubuhPart1/Lidah/lidah_nur1.wav: 8\n",
            "739 /content/drive/MyDrive/BANGKIT/AnggotaTubuhPart1/Lidah/lidah_nur2.wav: 8\n",
            "740 /content/drive/MyDrive/BANGKIT/AnggotaTubuhPart1/Lidah/lidah_nur3.wav: 8\n",
            "741 /content/drive/MyDrive/BANGKIT/AnggotaTubuhPart1/Lidah/lidah_nur4.wav: 8\n",
            "742 /content/drive/MyDrive/BANGKIT/AnggotaTubuhPart1/Lidah/lidah_nur5.wav: 8\n",
            "743 /content/drive/MyDrive/BANGKIT/AnggotaTubuhPart1/Lidah/lidah_nurr.wav: 8\n",
            "744 /content/drive/MyDrive/BANGKIT/AnggotaTubuhPart1/Lidah/lidah_nurp.wav: 8\n",
            "745 /content/drive/MyDrive/BANGKIT/AnggotaTubuhPart1/Lidah/lidah_nuru.wav: 8\n",
            "746 /content/drive/MyDrive/BANGKIT/AnggotaTubuhPart1/Lidah/lidah zi (3).wav: 8\n",
            "747 /content/drive/MyDrive/BANGKIT/AnggotaTubuhPart1/Lidah/lidah zi (2).wav: 8\n",
            "748 /content/drive/MyDrive/BANGKIT/AnggotaTubuhPart1/Lidah/lidah zi (10).wav: 8\n",
            "749 /content/drive/MyDrive/BANGKIT/AnggotaTubuhPart1/Lidah/lidah zi (4).wav: 8\n",
            "750 /content/drive/MyDrive/BANGKIT/AnggotaTubuhPart1/Lidah/lidah zi (6).wav: 8\n",
            "751 /content/drive/MyDrive/BANGKIT/AnggotaTubuhPart1/Lidah/lidah zi (5).wav: 8\n",
            "752 /content/drive/MyDrive/BANGKIT/AnggotaTubuhPart1/Lidah/lidah zi (9).wav: 8\n",
            "753 /content/drive/MyDrive/BANGKIT/AnggotaTubuhPart1/Lidah/lidah zi (7).wav: 8\n",
            "754 /content/drive/MyDrive/BANGKIT/AnggotaTubuhPart1/Lidah/lidah zi (8).wav: 8\n",
            "755 /content/drive/MyDrive/BANGKIT/AnggotaTubuhPart1/Lidah/lidah_rna (1).wav: 8\n",
            "756 /content/drive/MyDrive/BANGKIT/AnggotaTubuhPart1/Lidah/lidah_rna (3).wav: 8\n",
            "757 /content/drive/MyDrive/BANGKIT/AnggotaTubuhPart1/Lidah/lidah_rna (2).wav: 8\n",
            "758 /content/drive/MyDrive/BANGKIT/AnggotaTubuhPart1/Lidah/lidah_rna (4).wav: 8\n",
            "759 /content/drive/MyDrive/BANGKIT/AnggotaTubuhPart1/Lidah/lidah_rna (6).wav: 8\n",
            "760 /content/drive/MyDrive/BANGKIT/AnggotaTubuhPart1/Lidah/lidah_rna (5).wav: 8\n",
            "761 /content/drive/MyDrive/BANGKIT/AnggotaTubuhPart1/Lidah/lidah_rna (7).wav: 8\n",
            "762 /content/drive/MyDrive/BANGKIT/AnggotaTubuhPart1/Lidah/lidah_rna (8).wav: 8\n",
            "763 /content/drive/MyDrive/BANGKIT/AnggotaTubuhPart1/Lidah/lidah_rna (10).wav: 8\n",
            "764 /content/drive/MyDrive/BANGKIT/AnggotaTubuhPart1/Lidah/lidah_rna (9).wav: 8\n",
            "765 /content/drive/MyDrive/BANGKIT/AnggotaTubuhPart1/Lidah/lidah_ (4).wav: 8\n",
            "766 /content/drive/MyDrive/BANGKIT/AnggotaTubuhPart1/Lidah/lidah_ (3).wav: 8\n",
            "767 /content/drive/MyDrive/BANGKIT/AnggotaTubuhPart1/Lidah/lidah_ (2).wav: 8\n",
            "768 /content/drive/MyDrive/BANGKIT/AnggotaTubuhPart1/Lidah/lidah_ (5).wav: 8\n",
            "769 /content/drive/MyDrive/BANGKIT/AnggotaTubuhPart1/Lidah/lidah_ (7).wav: 8\n",
            "770 /content/drive/MyDrive/BANGKIT/AnggotaTubuhPart1/Lidah/lidah_ (8).wav: 8\n",
            "771 /content/drive/MyDrive/BANGKIT/AnggotaTubuhPart1/Lidah/lidah_ (6).wav: 8\n",
            "772 /content/drive/MyDrive/BANGKIT/AnggotaTubuhPart1/Lidah/lidah_ (10).wav: 8\n",
            "773 /content/drive/MyDrive/BANGKIT/AnggotaTubuhPart1/Lidah/lidah_ (9).wav: 8\n",
            "774 /content/drive/MyDrive/BANGKIT/AnggotaTubuhPart1/Lidah/lidah_.wav: 8\n",
            "775 /content/drive/MyDrive/BANGKIT/AnggotaTubuhPart1/Lidah/lidah_rt1.wav: 8\n",
            "776 /content/drive/MyDrive/BANGKIT/AnggotaTubuhPart1/Lidah/lidah_rt2.wav: 8\n",
            "777 /content/drive/MyDrive/BANGKIT/AnggotaTubuhPart1/Lidah/lidah1_da (2).wav: 8\n",
            "778 /content/drive/MyDrive/BANGKIT/AnggotaTubuhPart1/Lidah/lidah1_da (3).wav: 8\n",
            "779 /content/drive/MyDrive/BANGKIT/AnggotaTubuhPart1/Lidah/lidah1_tj (1).wav: 8\n",
            "780 /content/drive/MyDrive/BANGKIT/AnggotaTubuhPart1/Lidah/lidah1_tj (2).wav: 8\n",
            "781 /content/drive/MyDrive/BANGKIT/AnggotaTubuhPart1/Lidah/lidah1_tj (3).wav: 8\n",
            "782 /content/drive/MyDrive/BANGKIT/AnggotaTubuhPart1/Lidah/lidah n (2).wav: 8\n",
            "783 /content/drive/MyDrive/BANGKIT/AnggotaTubuhPart1/Lidah/lidah n (3).wav: 8\n",
            "784 /content/drive/MyDrive/BANGKIT/AnggotaTubuhPart1/Lidah/lidah n (4).wav: 8\n",
            "785 /content/drive/MyDrive/BANGKIT/AnggotaTubuhPart1/Lidah/lidah n (6).wav: 8\n",
            "786 /content/drive/MyDrive/BANGKIT/AnggotaTubuhPart1/Lidah/lidah n (7).wav: 8\n",
            "787 /content/drive/MyDrive/BANGKIT/AnggotaTubuhPart1/Lidah/lidah n (5).wav: 8\n",
            "788 /content/drive/MyDrive/BANGKIT/AnggotaTubuhPart1/Lidah/lidah n (8).wav: 8\n",
            "789 /content/drive/MyDrive/BANGKIT/AnggotaTubuhPart1/Lidah/lidah n (10).wav: 8\n",
            "790 /content/drive/MyDrive/BANGKIT/AnggotaTubuhPart1/Lidah/lidah n (9).wav: 8\n",
            "791 /content/drive/MyDrive/BANGKIT/AnggotaTubuhPart1/Lidah/lidah n (1).wav: 8\n",
            "792 /content/drive/MyDrive/BANGKIT/AnggotaTubuhPart1/Lidah/lidah (3).wav: 8\n",
            "793 /content/drive/MyDrive/BANGKIT/AnggotaTubuhPart1/Lidah/lidah (2).wav: 8\n",
            "794 /content/drive/MyDrive/BANGKIT/AnggotaTubuhPart1/Lidah/lidah (1).wav: 8\n",
            "795 /content/drive/MyDrive/BANGKIT/AnggotaTubuhPart1/Lidah/lidah (6).wav: 8\n",
            "796 /content/drive/MyDrive/BANGKIT/AnggotaTubuhPart1/Lidah/lidah (5).wav: 8\n",
            "797 /content/drive/MyDrive/BANGKIT/AnggotaTubuhPart1/Lidah/lidah (4).wav: 8\n",
            "798 /content/drive/MyDrive/BANGKIT/AnggotaTubuhPart1/Lidah/lidah (10).wav: 8\n",
            "799 /content/drive/MyDrive/BANGKIT/AnggotaTubuhPart1/Lidah/lidah (7).wav: 8\n",
            "800 /content/drive/MyDrive/BANGKIT/AnggotaTubuhPart1/Lidah/lidah (8).wav: 8\n",
            "801 /content/drive/MyDrive/BANGKIT/AnggotaTubuhPart1/Lidah/lidah (9).wav: 8\n",
            "802 /content/drive/MyDrive/BANGKIT/AnggotaTubuhPart1/Lidah/lidah g (1).wav: 8\n",
            "803 /content/drive/MyDrive/BANGKIT/AnggotaTubuhPart1/Lidah/lidah g (2).wav: 8\n",
            "804 /content/drive/MyDrive/BANGKIT/AnggotaTubuhPart1/Lidah/lidah g (5).wav: 8\n",
            "805 /content/drive/MyDrive/BANGKIT/AnggotaTubuhPart1/Lidah/lidah g (3).wav: 8\n",
            "806 /content/drive/MyDrive/BANGKIT/AnggotaTubuhPart1/Lidah/lidah g (4).wav: 8\n",
            "807 /content/drive/MyDrive/BANGKIT/AnggotaTubuhPart1/Lidah/lidah g (9).wav: 8\n",
            "808 /content/drive/MyDrive/BANGKIT/AnggotaTubuhPart1/Lidah/lidah g (8).wav: 8\n",
            "809 /content/drive/MyDrive/BANGKIT/AnggotaTubuhPart1/Lidah/lidah g (6).wav: 8\n",
            "810 /content/drive/MyDrive/BANGKIT/AnggotaTubuhPart1/Lidah/lidah g (7).wav: 8\n",
            "811 /content/drive/MyDrive/BANGKIT/AnggotaTubuhPart1/Lidah/lidah g (10).wav: 8\n",
            "812 /content/drive/MyDrive/BANGKIT/AnggotaTubuhPart1/Lidah/lidah1_bg (1).wav: 8\n",
            "813 /content/drive/MyDrive/BANGKIT/AnggotaTubuhPart1/Lidah/lidah1_bg (2).wav: 8\n",
            "814 /content/drive/MyDrive/BANGKIT/AnggotaTubuhPart1/Lidah/lidah_alf (10).wav: 8\n",
            "815 /content/drive/MyDrive/BANGKIT/AnggotaTubuhPart1/Lidah/lidah_alf (9).wav: 8\n",
            "816 /content/drive/MyDrive/BANGKIT/AnggotaTubuhPart1/Lidah/lidah_alf (8).wav: 8\n",
            "817 /content/drive/MyDrive/BANGKIT/AnggotaTubuhPart1/Lidah/lidah_alf (7).wav: 8\n",
            "818 /content/drive/MyDrive/BANGKIT/AnggotaTubuhPart1/Lidah/lidah_alf (6).wav: 8\n",
            "819 /content/drive/MyDrive/BANGKIT/AnggotaTubuhPart1/Lidah/lidah_alf (5).wav: 8\n",
            "820 /content/drive/MyDrive/BANGKIT/AnggotaTubuhPart1/Lidah/lidah_alf (4).wav: 8\n",
            "821 /content/drive/MyDrive/BANGKIT/AnggotaTubuhPart1/Lidah/lidah_alf (3).wav: 8\n",
            "822 /content/drive/MyDrive/BANGKIT/AnggotaTubuhPart1/Lidah/lidah_alf (2).wav: 8\n",
            "823 /content/drive/MyDrive/BANGKIT/AnggotaTubuhPart1/Lidah/lidah_alf (1).wav: 8\n",
            "\n",
            "Processing: '['AnggotaTubuhPart1', 'Lutut']'\n",
            "824 /content/drive/MyDrive/BANGKIT/AnggotaTubuhPart1/Lutut/15_lutut-h.wav: 9\n",
            "825 /content/drive/MyDrive/BANGKIT/AnggotaTubuhPart1/Lutut/15_lutut-y.wav: 9\n",
            "826 /content/drive/MyDrive/BANGKIT/AnggotaTubuhPart1/Lutut/Lutut4.wav: 9\n",
            "827 /content/drive/MyDrive/BANGKIT/AnggotaTubuhPart1/Lutut/Lutut5.wav: 9\n",
            "828 /content/drive/MyDrive/BANGKIT/AnggotaTubuhPart1/Lutut/lutut_nur1.wav: 9\n",
            "829 /content/drive/MyDrive/BANGKIT/AnggotaTubuhPart1/Lutut/lutut_nur2.wav: 9\n",
            "830 /content/drive/MyDrive/BANGKIT/AnggotaTubuhPart1/Lutut/lutut_nur3.wav: 9\n",
            "831 /content/drive/MyDrive/BANGKIT/AnggotaTubuhPart1/Lutut/lutut_nur4.wav: 9\n",
            "832 /content/drive/MyDrive/BANGKIT/AnggotaTubuhPart1/Lutut/lutut_nur5.wav: 9\n",
            "833 /content/drive/MyDrive/BANGKIT/AnggotaTubuhPart1/Lutut/lutut_nurr.wav: 9\n",
            "834 /content/drive/MyDrive/BANGKIT/AnggotaTubuhPart1/Lutut/lutut_nurp.wav: 9\n",
            "835 /content/drive/MyDrive/BANGKIT/AnggotaTubuhPart1/Lutut/lutut_nuru.wav: 9\n",
            "836 /content/drive/MyDrive/BANGKIT/AnggotaTubuhPart1/Lutut/lutut zi (7).wav: 9\n",
            "837 /content/drive/MyDrive/BANGKIT/AnggotaTubuhPart1/Lutut/lutut zi (8).wav: 9\n",
            "838 /content/drive/MyDrive/BANGKIT/AnggotaTubuhPart1/Lutut/lutut zi (9).wav: 9\n",
            "839 /content/drive/MyDrive/BANGKIT/AnggotaTubuhPart1/Lutut/lutut zi (1).wav: 9\n",
            "840 /content/drive/MyDrive/BANGKIT/AnggotaTubuhPart1/Lutut/lutut zi (10).wav: 9\n",
            "841 /content/drive/MyDrive/BANGKIT/AnggotaTubuhPart1/Lutut/lutut zi (2).wav: 9\n",
            "842 /content/drive/MyDrive/BANGKIT/AnggotaTubuhPart1/Lutut/lutut zi (3).wav: 9\n",
            "843 /content/drive/MyDrive/BANGKIT/AnggotaTubuhPart1/Lutut/lutut zi (4).wav: 9\n",
            "844 /content/drive/MyDrive/BANGKIT/AnggotaTubuhPart1/Lutut/lutut zi (5).wav: 9\n",
            "845 /content/drive/MyDrive/BANGKIT/AnggotaTubuhPart1/Lutut/lutut_rna (1).wav: 9\n",
            "846 /content/drive/MyDrive/BANGKIT/AnggotaTubuhPart1/Lutut/lutut_rna (3).wav: 9\n",
            "847 /content/drive/MyDrive/BANGKIT/AnggotaTubuhPart1/Lutut/lutut_rna (2).wav: 9\n",
            "848 /content/drive/MyDrive/BANGKIT/AnggotaTubuhPart1/Lutut/lutut_rna (4).wav: 9\n",
            "849 /content/drive/MyDrive/BANGKIT/AnggotaTubuhPart1/Lutut/lutut_rna (5).wav: 9\n",
            "850 /content/drive/MyDrive/BANGKIT/AnggotaTubuhPart1/Lutut/lutut_rna (6).wav: 9\n",
            "851 /content/drive/MyDrive/BANGKIT/AnggotaTubuhPart1/Lutut/lutut_rna (7).wav: 9\n",
            "852 /content/drive/MyDrive/BANGKIT/AnggotaTubuhPart1/Lutut/lutut_rna (8).wav: 9\n",
            "853 /content/drive/MyDrive/BANGKIT/AnggotaTubuhPart1/Lutut/lutut_rna (9).wav: 9\n",
            "854 /content/drive/MyDrive/BANGKIT/AnggotaTubuhPart1/Lutut/lutut_rna (10).wav: 9\n",
            "855 /content/drive/MyDrive/BANGKIT/AnggotaTubuhPart1/Lutut/lutut_ (2).wav: 9\n",
            "856 /content/drive/MyDrive/BANGKIT/AnggotaTubuhPart1/Lutut/lutut_ (3).wav: 9\n",
            "857 /content/drive/MyDrive/BANGKIT/AnggotaTubuhPart1/Lutut/lutut_ (6).wav: 9\n",
            "858 /content/drive/MyDrive/BANGKIT/AnggotaTubuhPart1/Lutut/lutut_ (5).wav: 9\n",
            "859 /content/drive/MyDrive/BANGKIT/AnggotaTubuhPart1/Lutut/lutut_ (4).wav: 9\n",
            "860 /content/drive/MyDrive/BANGKIT/AnggotaTubuhPart1/Lutut/lutut_ (8).wav: 9\n",
            "861 /content/drive/MyDrive/BANGKIT/AnggotaTubuhPart1/Lutut/lutut_ (7).wav: 9\n",
            "862 /content/drive/MyDrive/BANGKIT/AnggotaTubuhPart1/Lutut/lutut_ (9).wav: 9\n",
            "863 /content/drive/MyDrive/BANGKIT/AnggotaTubuhPart1/Lutut/lutut_ (10).wav: 9\n",
            "864 /content/drive/MyDrive/BANGKIT/AnggotaTubuhPart1/Lutut/lutut_.wav: 9\n",
            "865 /content/drive/MyDrive/BANGKIT/AnggotaTubuhPart1/Lutut/lutut_rt1.wav: 9\n",
            "866 /content/drive/MyDrive/BANGKIT/AnggotaTubuhPart1/Lutut/lutut_rt2.wav: 9\n",
            "867 /content/drive/MyDrive/BANGKIT/AnggotaTubuhPart1/Lutut/lutut1_da (2).wav: 9\n",
            "868 /content/drive/MyDrive/BANGKIT/AnggotaTubuhPart1/Lutut/lutut1_da (3).wav: 9\n",
            "869 /content/drive/MyDrive/BANGKIT/AnggotaTubuhPart1/Lutut/lutut1_tj (1).wav: 9\n",
            "870 /content/drive/MyDrive/BANGKIT/AnggotaTubuhPart1/Lutut/lutut1_tj (2).wav: 9\n",
            "871 /content/drive/MyDrive/BANGKIT/AnggotaTubuhPart1/Lutut/lutut1_tj (3).wav: 9\n",
            "872 /content/drive/MyDrive/BANGKIT/AnggotaTubuhPart1/Lutut/lutut n (2).wav: 9\n",
            "873 /content/drive/MyDrive/BANGKIT/AnggotaTubuhPart1/Lutut/lutut n (1).wav: 9\n",
            "874 /content/drive/MyDrive/BANGKIT/AnggotaTubuhPart1/Lutut/lutut n (3).wav: 9\n",
            "875 /content/drive/MyDrive/BANGKIT/AnggotaTubuhPart1/Lutut/lutut n (4).wav: 9\n",
            "876 /content/drive/MyDrive/BANGKIT/AnggotaTubuhPart1/Lutut/lutut n (5).wav: 9\n",
            "877 /content/drive/MyDrive/BANGKIT/AnggotaTubuhPart1/Lutut/lutut n (8).wav: 9\n",
            "878 /content/drive/MyDrive/BANGKIT/AnggotaTubuhPart1/Lutut/lutut n (7).wav: 9\n",
            "879 /content/drive/MyDrive/BANGKIT/AnggotaTubuhPart1/Lutut/lutut n (6).wav: 9\n",
            "880 /content/drive/MyDrive/BANGKIT/AnggotaTubuhPart1/Lutut/lutut n (9).wav: 9\n",
            "881 /content/drive/MyDrive/BANGKIT/AnggotaTubuhPart1/Lutut/lutut n (10).wav: 9\n",
            "882 /content/drive/MyDrive/BANGKIT/AnggotaTubuhPart1/Lutut/lutut (2).wav: 9\n",
            "883 /content/drive/MyDrive/BANGKIT/AnggotaTubuhPart1/Lutut/lutut (1).wav: 9\n",
            "884 /content/drive/MyDrive/BANGKIT/AnggotaTubuhPart1/Lutut/lutut (3).wav: 9\n",
            "885 /content/drive/MyDrive/BANGKIT/AnggotaTubuhPart1/Lutut/lutut (4).wav: 9\n",
            "886 /content/drive/MyDrive/BANGKIT/AnggotaTubuhPart1/Lutut/lutut (6).wav: 9\n",
            "887 /content/drive/MyDrive/BANGKIT/AnggotaTubuhPart1/Lutut/lutut (5).wav: 9\n",
            "888 /content/drive/MyDrive/BANGKIT/AnggotaTubuhPart1/Lutut/lutut (7).wav: 9\n",
            "889 /content/drive/MyDrive/BANGKIT/AnggotaTubuhPart1/Lutut/lutut (10).wav: 9\n",
            "890 /content/drive/MyDrive/BANGKIT/AnggotaTubuhPart1/Lutut/lutut (9).wav: 9\n",
            "891 /content/drive/MyDrive/BANGKIT/AnggotaTubuhPart1/Lutut/lutut (8).wav: 9\n",
            "892 /content/drive/MyDrive/BANGKIT/AnggotaTubuhPart1/Lutut/lutut g (2).wav: 9\n",
            "893 /content/drive/MyDrive/BANGKIT/AnggotaTubuhPart1/Lutut/lutut g (1).wav: 9\n",
            "894 /content/drive/MyDrive/BANGKIT/AnggotaTubuhPart1/Lutut/lutut g (5).wav: 9\n",
            "895 /content/drive/MyDrive/BANGKIT/AnggotaTubuhPart1/Lutut/lutut g (3).wav: 9\n",
            "896 /content/drive/MyDrive/BANGKIT/AnggotaTubuhPart1/Lutut/lutut g (6).wav: 9\n",
            "897 /content/drive/MyDrive/BANGKIT/AnggotaTubuhPart1/Lutut/lutut g (4).wav: 9\n",
            "898 /content/drive/MyDrive/BANGKIT/AnggotaTubuhPart1/Lutut/lutut g (7).wav: 9\n",
            "899 /content/drive/MyDrive/BANGKIT/AnggotaTubuhPart1/Lutut/lutut g (9).wav: 9\n",
            "900 /content/drive/MyDrive/BANGKIT/AnggotaTubuhPart1/Lutut/lutut g (10).wav: 9\n",
            "901 /content/drive/MyDrive/BANGKIT/AnggotaTubuhPart1/Lutut/lutut g (8).wav: 9\n",
            "902 /content/drive/MyDrive/BANGKIT/AnggotaTubuhPart1/Lutut/lutut1_bg (1).wav: 9\n",
            "903 /content/drive/MyDrive/BANGKIT/AnggotaTubuhPart1/Lutut/lutut1_bg (2).wav: 9\n",
            "904 /content/drive/MyDrive/BANGKIT/AnggotaTubuhPart1/Lutut/lutut_alf (10).wav: 9\n",
            "905 /content/drive/MyDrive/BANGKIT/AnggotaTubuhPart1/Lutut/lutut_alf (9).wav: 9\n",
            "906 /content/drive/MyDrive/BANGKIT/AnggotaTubuhPart1/Lutut/lutut_alf (8).wav: 9\n",
            "907 /content/drive/MyDrive/BANGKIT/AnggotaTubuhPart1/Lutut/lutut_alf (7).wav: 9\n",
            "908 /content/drive/MyDrive/BANGKIT/AnggotaTubuhPart1/Lutut/lutut_alf (6).wav: 9\n",
            "909 /content/drive/MyDrive/BANGKIT/AnggotaTubuhPart1/Lutut/lutut_alf (5).wav: 9\n",
            "910 /content/drive/MyDrive/BANGKIT/AnggotaTubuhPart1/Lutut/lutut_alf (4).wav: 9\n",
            "911 /content/drive/MyDrive/BANGKIT/AnggotaTubuhPart1/Lutut/lutut_alf (3).wav: 9\n",
            "912 /content/drive/MyDrive/BANGKIT/AnggotaTubuhPart1/Lutut/lutut_alf (2).wav: 9\n",
            "913 /content/drive/MyDrive/BANGKIT/AnggotaTubuhPart1/Lutut/lutut_alf (1).wav: 9\n"
          ]
        }
      ]
    },
    {
      "cell_type": "code",
      "source": [
        "#Parameter\n",
        "DATA_PATH = \"AnggotaTubuh.json\"\n",
        "EPOCHS = 100\n",
        "BATCH_SIZE = 12\n",
        "PATIENCE = 10\n",
        "LEARNING_RATE = 0.0001"
      ],
      "metadata": {
        "id": "7nyNPzj-2msI"
      },
      "execution_count": null,
      "outputs": []
    },
    {
      "cell_type": "code",
      "source": [
        "def prepare_dataset(data_path):\n",
        "    x, y = load_data(data_path)\n",
        "\n",
        "    x_train, x_test, y_train, y_test = train_test_split(x, y, test_size=0.1)\n",
        "    x_train, x_validation, y_train, y_validation = train_test_split(x_train, y_train, test_size=0.1)\n",
        "\n",
        "    x_train = x_train[..., np.newaxis]\n",
        "    x_test = x_test[..., np.newaxis]\n",
        "    x_validation = x_validation[..., np.newaxis]\n",
        "\n",
        "    return x_train, y_train, x_validation, y_validation, x_test, y_test"
      ],
      "metadata": {
        "id": "_n7cZAUL5c0E"
      },
      "execution_count": null,
      "outputs": []
    },
    {
      "cell_type": "code",
      "source": [
        "def load_data(data_path):\n",
        "    with open(data_path, \"r\") as fp:\n",
        "        data = json.load(fp)\n",
        "\n",
        "    x = np.array(data[\"mfcc\"])\n",
        "    y = np.array(data[\"labels\"])\n",
        "    print(\"Training sets loaded!\")\n",
        "    return x, y"
      ],
      "metadata": {
        "id": "DjyQ7iC45c26"
      },
      "execution_count": null,
      "outputs": []
    },
    {
      "cell_type": "code",
      "source": [
        "def build_model(input_shape, learning_rate=LEARNING_RATE):\n",
        "    \n",
        "    # build network architecture using convolutional layers\n",
        "    model = tf.keras.models.Sequential()\n",
        "    model.add(tf.keras.layers.Conv2D(32, (3, 3), activation='relu', input_shape=input_shape, padding=\"same\"))\n",
        "    model.add(tf.keras.layers.BatchNormalization())\n",
        "    model.add(tf.keras.layers.MaxPooling2D((3, 3), strides=(2,2), padding='same'))\n",
        "    model.add(tf.keras.layers.Conv2D(64, (3, 3), activation='relu', padding=\"same\"))\n",
        "    model.add(tf.keras.layers.MaxPooling2D(3, 3))\n",
        "    model.add(tf.keras.layers.Flatten())\n",
        "    model.add(tf.keras.layers.Dense(150, activation='relu'))\n",
        "    model.add(tf.keras.layers.Dropout(0.2))\n",
        "    model.add(tf.keras.layers.Dense(10, activation='softmax'))\n",
        "\n",
        "    # compile model\n",
        "    model.compile(optimizer=tf.optimizers.Adam(learning_rate=learning_rate),\n",
        "                  loss='sparse_categorical_crossentropy',\n",
        "                  metrics=[\"accuracy\"])\n",
        "    return model"
      ],
      "metadata": {
        "id": "qpeKk9L55c6B"
      },
      "execution_count": null,
      "outputs": []
    },
    {
      "cell_type": "code",
      "source": [
        "def train(model, epochs, batch_size, patience, X_train, y_train, X_validation, y_validation):\n",
        "    \n",
        "    earlystop_callback = tf.keras.callbacks.EarlyStopping(monitor=\"val_accuracy\", min_delta=0.001, patience=patience)  \n",
        "\n",
        "    history = model.fit(X_train,\n",
        "                        y_train,\n",
        "                        epochs=epochs,\n",
        "                        batch_size=batch_size,\n",
        "                        validation_data=(X_validation, y_validation),\n",
        "                        callbacks=[earlystop_callback])\n",
        "    return history"
      ],
      "metadata": {
        "id": "Tu71ZJlA5c9C"
      },
      "execution_count": null,
      "outputs": []
    },
    {
      "cell_type": "code",
      "source": [
        "def plot_history(history):\n",
        "    \n",
        "    fig, axs = plt.subplots(2)\n",
        "\n",
        "    plt.figure(figsize=(5,10))\n",
        "\n",
        "    # create accuracy subplot\n",
        "    axs[0].plot(history.history[\"accuracy\"], label=\"accuracy\")\n",
        "    axs[0].plot(history.history['val_accuracy'], label=\"val_accuracy\")\n",
        "    axs[0].set_ylabel(\"Accuracy\")\n",
        "    axs[0].legend(loc=\"lower right\")\n",
        "    axs[0].set_title(\"Accuracy evaluation\")\n",
        "\n",
        "    # create loss subplot\n",
        "    axs[1].plot(history.history[\"loss\"], label=\"loss\")\n",
        "    axs[1].plot(history.history['val_loss'], label=\"val_loss\")\n",
        "    axs[1].set_xlabel(\"Epoch\")\n",
        "    axs[1].set_ylabel(\"Loss\")\n",
        "    axs[1].legend(loc=\"upper right\")\n",
        "    axs[1].set_title(\"Loss evaluation\")\n",
        "\n",
        "    \n",
        "\n",
        "    plt.show()"
      ],
      "metadata": {
        "id": "eV0IL-Vm5dAG"
      },
      "execution_count": null,
      "outputs": []
    },
    {
      "cell_type": "code",
      "source": [
        "x_train, y_train, x_validation, y_validation, x_test, y_test = prepare_dataset(DATA_PATH)\n",
        "#print(model.summary())"
      ],
      "metadata": {
        "colab": {
          "base_uri": "https://localhost:8080/"
        },
        "id": "66dqGoW75dDG",
        "outputId": "7d806131-c3ce-4b7d-c595-0441d6373df3"
      },
      "execution_count": null,
      "outputs": [
        {
          "output_type": "stream",
          "name": "stdout",
          "text": [
            "Training sets loaded!\n"
          ]
        }
      ]
    },
    {
      "cell_type": "code",
      "source": [
        "input_shape = (x_train.shape[1], x_train.shape[2], 1)\n",
        "model = build_model(input_shape, learning_rate=LEARNING_RATE)"
      ],
      "metadata": {
        "id": "MiSkHHWw5dK6"
      },
      "execution_count": null,
      "outputs": []
    },
    {
      "cell_type": "code",
      "source": [
        "print(x_train.shape)\n",
        "\n",
        "print(input_shape)"
      ],
      "metadata": {
        "colab": {
          "base_uri": "https://localhost:8080/"
        },
        "id": "U_csdLCt5dQq",
        "outputId": "70b32dbf-7f86-4140-decd-764bc1e3383a"
      },
      "execution_count": null,
      "outputs": [
        {
          "output_type": "stream",
          "name": "stdout",
          "text": [
            "(738, 44, 12, 1)\n",
            "(44, 12, 1)\n"
          ]
        }
      ]
    },
    {
      "cell_type": "code",
      "source": [
        "history = train(model, EPOCHS, BATCH_SIZE, PATIENCE, x_train, y_train, x_validation, y_validation)"
      ],
      "metadata": {
        "colab": {
          "base_uri": "https://localhost:8080/"
        },
        "id": "o58Zr_VM5dVQ",
        "outputId": "bcf3458c-7d60-4d1e-a46e-b7734853c0e5"
      },
      "execution_count": null,
      "outputs": [
        {
          "output_type": "stream",
          "name": "stdout",
          "text": [
            "Epoch 1/100\n",
            "62/62 [==============================] - 2s 20ms/step - loss: 2.4182 - accuracy: 0.1030 - val_loss: 2.2962 - val_accuracy: 0.1446\n",
            "Epoch 2/100\n",
            "62/62 [==============================] - 1s 16ms/step - loss: 2.2415 - accuracy: 0.1762 - val_loss: 2.1853 - val_accuracy: 0.1566\n",
            "Epoch 3/100\n",
            "62/62 [==============================] - 1s 17ms/step - loss: 2.1166 - accuracy: 0.2425 - val_loss: 2.1305 - val_accuracy: 0.1928\n",
            "Epoch 4/100\n",
            "62/62 [==============================] - 1s 16ms/step - loss: 2.0190 - accuracy: 0.2764 - val_loss: 2.0872 - val_accuracy: 0.2289\n",
            "Epoch 5/100\n",
            "62/62 [==============================] - 1s 16ms/step - loss: 1.9590 - accuracy: 0.2967 - val_loss: 2.0088 - val_accuracy: 0.2892\n",
            "Epoch 6/100\n",
            "62/62 [==============================] - 1s 16ms/step - loss: 1.9055 - accuracy: 0.3482 - val_loss: 1.9538 - val_accuracy: 0.3133\n",
            "Epoch 7/100\n",
            "62/62 [==============================] - 1s 16ms/step - loss: 1.8393 - accuracy: 0.3496 - val_loss: 1.9367 - val_accuracy: 0.2048\n",
            "Epoch 8/100\n",
            "62/62 [==============================] - 1s 17ms/step - loss: 1.7984 - accuracy: 0.3645 - val_loss: 1.9125 - val_accuracy: 0.2651\n",
            "Epoch 9/100\n",
            "62/62 [==============================] - 1s 16ms/step - loss: 1.7596 - accuracy: 0.3957 - val_loss: 1.8492 - val_accuracy: 0.2771\n",
            "Epoch 10/100\n",
            "62/62 [==============================] - 1s 16ms/step - loss: 1.6983 - accuracy: 0.3943 - val_loss: 1.8448 - val_accuracy: 0.2410\n",
            "Epoch 11/100\n",
            "62/62 [==============================] - 1s 16ms/step - loss: 1.6468 - accuracy: 0.4146 - val_loss: 1.7892 - val_accuracy: 0.3373\n",
            "Epoch 12/100\n",
            "62/62 [==============================] - 1s 16ms/step - loss: 1.5719 - accuracy: 0.4499 - val_loss: 1.7668 - val_accuracy: 0.3735\n",
            "Epoch 13/100\n",
            "62/62 [==============================] - 1s 16ms/step - loss: 1.5539 - accuracy: 0.4634 - val_loss: 1.7834 - val_accuracy: 0.3133\n",
            "Epoch 14/100\n",
            "62/62 [==============================] - 1s 17ms/step - loss: 1.5028 - accuracy: 0.4824 - val_loss: 1.7420 - val_accuracy: 0.2892\n",
            "Epoch 15/100\n",
            "62/62 [==============================] - 1s 16ms/step - loss: 1.4905 - accuracy: 0.5068 - val_loss: 1.6987 - val_accuracy: 0.3614\n",
            "Epoch 16/100\n",
            "62/62 [==============================] - 1s 16ms/step - loss: 1.4359 - accuracy: 0.5379 - val_loss: 1.6648 - val_accuracy: 0.3976\n",
            "Epoch 17/100\n",
            "62/62 [==============================] - 1s 16ms/step - loss: 1.3922 - accuracy: 0.5230 - val_loss: 1.6519 - val_accuracy: 0.4096\n",
            "Epoch 18/100\n",
            "62/62 [==============================] - 1s 16ms/step - loss: 1.3234 - accuracy: 0.5556 - val_loss: 1.5962 - val_accuracy: 0.4096\n",
            "Epoch 19/100\n",
            "62/62 [==============================] - 1s 16ms/step - loss: 1.2809 - accuracy: 0.5840 - val_loss: 1.5897 - val_accuracy: 0.4217\n",
            "Epoch 20/100\n",
            "62/62 [==============================] - 1s 16ms/step - loss: 1.2912 - accuracy: 0.5786 - val_loss: 1.5709 - val_accuracy: 0.4217\n",
            "Epoch 21/100\n",
            "62/62 [==============================] - 1s 16ms/step - loss: 1.2351 - accuracy: 0.6098 - val_loss: 1.5788 - val_accuracy: 0.4337\n",
            "Epoch 22/100\n",
            "62/62 [==============================] - 1s 16ms/step - loss: 1.2061 - accuracy: 0.6043 - val_loss: 1.5343 - val_accuracy: 0.3855\n",
            "Epoch 23/100\n",
            "62/62 [==============================] - 1s 16ms/step - loss: 1.1577 - accuracy: 0.6396 - val_loss: 1.4844 - val_accuracy: 0.4217\n",
            "Epoch 24/100\n",
            "62/62 [==============================] - 1s 16ms/step - loss: 1.1382 - accuracy: 0.6301 - val_loss: 1.4528 - val_accuracy: 0.4699\n",
            "Epoch 25/100\n",
            "62/62 [==============================] - 1s 16ms/step - loss: 1.0964 - accuracy: 0.6409 - val_loss: 1.4406 - val_accuracy: 0.4819\n",
            "Epoch 26/100\n",
            "62/62 [==============================] - 1s 16ms/step - loss: 1.0702 - accuracy: 0.6572 - val_loss: 1.4200 - val_accuracy: 0.4578\n",
            "Epoch 27/100\n",
            "62/62 [==============================] - 1s 16ms/step - loss: 1.0228 - accuracy: 0.6667 - val_loss: 1.4180 - val_accuracy: 0.5060\n",
            "Epoch 28/100\n",
            "62/62 [==============================] - 1s 17ms/step - loss: 0.9961 - accuracy: 0.6829 - val_loss: 1.3958 - val_accuracy: 0.4699\n",
            "Epoch 29/100\n",
            "62/62 [==============================] - 1s 16ms/step - loss: 0.9793 - accuracy: 0.6924 - val_loss: 1.3691 - val_accuracy: 0.4940\n",
            "Epoch 30/100\n",
            "62/62 [==============================] - 1s 16ms/step - loss: 0.9405 - accuracy: 0.7005 - val_loss: 1.3490 - val_accuracy: 0.5181\n",
            "Epoch 31/100\n",
            "62/62 [==============================] - 1s 16ms/step - loss: 0.9048 - accuracy: 0.7263 - val_loss: 1.3192 - val_accuracy: 0.5422\n",
            "Epoch 32/100\n",
            "62/62 [==============================] - 1s 16ms/step - loss: 0.9003 - accuracy: 0.7222 - val_loss: 1.3358 - val_accuracy: 0.5422\n",
            "Epoch 33/100\n",
            "62/62 [==============================] - 1s 16ms/step - loss: 0.8406 - accuracy: 0.7480 - val_loss: 1.2918 - val_accuracy: 0.5422\n",
            "Epoch 34/100\n",
            "62/62 [==============================] - 1s 16ms/step - loss: 0.8331 - accuracy: 0.7683 - val_loss: 1.3310 - val_accuracy: 0.5060\n",
            "Epoch 35/100\n",
            "62/62 [==============================] - 1s 16ms/step - loss: 0.8118 - accuracy: 0.7520 - val_loss: 1.2555 - val_accuracy: 0.5783\n",
            "Epoch 36/100\n",
            "62/62 [==============================] - 1s 16ms/step - loss: 0.7937 - accuracy: 0.7575 - val_loss: 1.2578 - val_accuracy: 0.5783\n",
            "Epoch 37/100\n",
            "62/62 [==============================] - 1s 16ms/step - loss: 0.7413 - accuracy: 0.7927 - val_loss: 1.2624 - val_accuracy: 0.5422\n",
            "Epoch 38/100\n",
            "62/62 [==============================] - 1s 16ms/step - loss: 0.7070 - accuracy: 0.7967 - val_loss: 1.2795 - val_accuracy: 0.5060\n",
            "Epoch 39/100\n",
            "62/62 [==============================] - 1s 16ms/step - loss: 0.6929 - accuracy: 0.8022 - val_loss: 1.2786 - val_accuracy: 0.5301\n",
            "Epoch 40/100\n",
            "62/62 [==============================] - 1s 16ms/step - loss: 0.6847 - accuracy: 0.8076 - val_loss: 1.2533 - val_accuracy: 0.5422\n",
            "Epoch 41/100\n",
            "62/62 [==============================] - 1s 16ms/step - loss: 0.6789 - accuracy: 0.8022 - val_loss: 1.2751 - val_accuracy: 0.5181\n",
            "Epoch 42/100\n",
            "62/62 [==============================] - 1s 17ms/step - loss: 0.6533 - accuracy: 0.8171 - val_loss: 1.2962 - val_accuracy: 0.5181\n",
            "Epoch 43/100\n",
            "62/62 [==============================] - 1s 17ms/step - loss: 0.6456 - accuracy: 0.8103 - val_loss: 1.2737 - val_accuracy: 0.5181\n",
            "Epoch 44/100\n",
            "62/62 [==============================] - 1s 17ms/step - loss: 0.5862 - accuracy: 0.8401 - val_loss: 1.2202 - val_accuracy: 0.6024\n",
            "Epoch 45/100\n",
            "62/62 [==============================] - 1s 17ms/step - loss: 0.6102 - accuracy: 0.8266 - val_loss: 1.2288 - val_accuracy: 0.5904\n",
            "Epoch 46/100\n",
            "62/62 [==============================] - 1s 17ms/step - loss: 0.5705 - accuracy: 0.8523 - val_loss: 1.2430 - val_accuracy: 0.5422\n",
            "Epoch 47/100\n",
            "62/62 [==============================] - 1s 17ms/step - loss: 0.5929 - accuracy: 0.8198 - val_loss: 1.2625 - val_accuracy: 0.5542\n",
            "Epoch 48/100\n",
            "62/62 [==============================] - 1s 17ms/step - loss: 0.5602 - accuracy: 0.8401 - val_loss: 1.2538 - val_accuracy: 0.5904\n",
            "Epoch 49/100\n",
            "62/62 [==============================] - 1s 17ms/step - loss: 0.5266 - accuracy: 0.8564 - val_loss: 1.1954 - val_accuracy: 0.6024\n",
            "Epoch 50/100\n",
            "62/62 [==============================] - 1s 17ms/step - loss: 0.5257 - accuracy: 0.8564 - val_loss: 1.2355 - val_accuracy: 0.5663\n",
            "Epoch 51/100\n",
            "62/62 [==============================] - 1s 17ms/step - loss: 0.4907 - accuracy: 0.8713 - val_loss: 1.2279 - val_accuracy: 0.5542\n",
            "Epoch 52/100\n",
            "62/62 [==============================] - 1s 17ms/step - loss: 0.4783 - accuracy: 0.8726 - val_loss: 1.2557 - val_accuracy: 0.5542\n",
            "Epoch 53/100\n",
            "62/62 [==============================] - 1s 17ms/step - loss: 0.4734 - accuracy: 0.8659 - val_loss: 1.2212 - val_accuracy: 0.5663\n",
            "Epoch 54/100\n",
            "62/62 [==============================] - 1s 17ms/step - loss: 0.4695 - accuracy: 0.8713 - val_loss: 1.3076 - val_accuracy: 0.5422\n"
          ]
        }
      ]
    },
    {
      "cell_type": "code",
      "source": [
        "plot_history(history)"
      ],
      "metadata": {
        "id": "kr2xXk4s6e0C",
        "colab": {
          "base_uri": "https://localhost:8080/",
          "height": 312
        },
        "outputId": "64faa2d2-04e5-47ad-ee5c-5a72af3892a9"
      },
      "execution_count": null,
      "outputs": [
        {
          "output_type": "display_data",
          "data": {
            "text/plain": [
              "<Figure size 432x288 with 2 Axes>"
            ],
            "image/png": "[encoded data removed]"
          },
          "metadata": {
            "needs_background": "light"
          }
        },
        {
          "output_type": "display_data",
          "data": {
            "text/plain": [
              "<Figure size 360x720 with 0 Axes>"
            ]
          },
          "metadata": {}
        }
      ]
    },
    {
      "cell_type": "code",
      "source": [
        "test_loss, test_acc = model.evaluate(x_test, y_test)"
      ],
      "metadata": {
        "id": "XA2RnvsFuXP7",
        "colab": {
          "base_uri": "https://localhost:8080/"
        },
        "outputId": "080f4bbe-b330-4f5f-9851-07cb294bfe5e"
      },
      "execution_count": null,
      "outputs": [
        {
          "output_type": "stream",
          "name": "stdout",
          "text": [
            "3/3 [==============================] - 0s 11ms/step - loss: 1.4586 - accuracy: 0.5217\n"
          ]
        }
      ]
    },
    {
      "cell_type": "code",
      "source": [
        "test_loss"
      ],
      "metadata": {
        "id": "R9vCFps3uX5D",
        "colab": {
          "base_uri": "https://localhost:8080/"
        },
        "outputId": "d3bceda0-037c-4e08-e704-4c0d2b611bce"
      },
      "execution_count": null,
      "outputs": [
        {
          "output_type": "execute_result",
          "data": {
            "text/plain": [
              "1.4585936069488525"
            ]
          },
          "metadata": {},
          "execution_count": 20
        }
      ]
    },
    {
      "cell_type": "code",
      "source": [
        "test_acc"
      ],
      "metadata": {
        "id": "6xhitZaUuYBw",
        "colab": {
          "base_uri": "https://localhost:8080/"
        },
        "outputId": "df752488-6bfb-4034-c8a1-00b8124122c0"
      },
      "execution_count": null,
      "outputs": [
        {
          "output_type": "execute_result",
          "data": {
            "text/plain": [
              "0.52173912525177"
            ]
          },
          "metadata": {},
          "execution_count": 21
        }
      ]
    },
    {
      "cell_type": "code",
      "source": [
        "model_name = 'AnggotaTub_4.h5'\n",
        "model.save(model_name, save_format='h5')"
      ],
      "metadata": {
        "id": "0WwbDQLjuYI-"
      },
      "execution_count": null,
      "outputs": []
    },
    {
      "cell_type": "code",
      "source": [
        "%cd /content/drive/MyDrive/BANGKIT/FILE_H5 + PB"
      ],
      "metadata": {
        "id": "kKuwybVfui2I",
        "colab": {
          "base_uri": "https://localhost:8080/"
        },
        "outputId": "f8b0a599-faf6-4331-994f-b60d3325569c"
      },
      "execution_count": null,
      "outputs": [
        {
          "output_type": "stream",
          "name": "stdout",
          "text": [
            "/content/drive/MyDrive/BANGKIT/FILE_H5 + PB\n"
          ]
        }
      ]
    },
    {
      "cell_type": "code",
      "source": [
        "name_model =  'AnggotaTubuh_2252.pb'\n",
        "model.save(name_model, save_format='pb')"
      ],
      "metadata": {
        "colab": {
          "base_uri": "https://localhost:8080/"
        },
        "id": "hU0pRCv_SKAU",
        "outputId": "14ad99ee-e629-41a2-939f-3fcf924f1644"
      },
      "execution_count": null,
      "outputs": [
        {
          "output_type": "stream",
          "name": "stdout",
          "text": [
            "INFO:tensorflow:Assets written to: AnggotaTubuh_2252.pb/assets\n"
          ]
        }
      ]
    },
    {
      "cell_type": "code",
      "source": [
        "#preprocess the input sample function\n",
        "def preprocess(file_path, num_mfcc=12, n_fft=2048, hop_length=512):\n",
        "        \"\"\"Extract MFCCs from audio file.\n",
        "        :param file_path (str): Path of audio file\n",
        "        :param num_mfcc (int): # of coefficients to extract\n",
        "        :param n_fft (int): Interval we consider to apply STFT. Measured in # of samples\n",
        "        :param hop_length (int): Sliding window for STFT. Measured in # of samples\n",
        "        :return MFCCs (ndarray): 2-dim array with MFCC data of shape (# time steps, # coefficients)\n",
        "        \"\"\"\n",
        "        signal, sample_rate = librosa.load(file_path)\n",
        "\n",
        "        if len(signal) >= 22050:\n",
        "            # ensure consistency of the length of the signal\n",
        "            signal = signal[:22050]\n",
        "\n",
        "            # extract MFCCs\n",
        "            MFCCs = librosa.feature.mfcc(signal, sample_rate, n_mfcc=num_mfcc, n_fft=n_fft,\n",
        "                                         hop_length=hop_length)\n",
        "        return MFCCs.T"
      ],
      "metadata": {
        "id": "_77mNLRhvhDB"
      },
      "execution_count": null,
      "outputs": []
    },
    {
      "cell_type": "code",
      "source": [
        "loaded=tf.keras.models.load_model(model_name)"
      ],
      "metadata": {
        "id": "5q_gnovlvhHh"
      },
      "execution_count": null,
      "outputs": []
    },
    {
      "cell_type": "code",
      "source": [
        "def predict(file_path):\n",
        "       \n",
        "        # extract MFCC\n",
        "        MFCCs = preprocess(file_path)\n",
        "\n",
        "        # we need a 4-dim array to feed to the model for prediction: (# samples, # time steps, # coefficients, 1)\n",
        "        MFCCs = MFCCs[np.newaxis, ..., np.newaxis]\n",
        "\n",
        "        # get the predicted label\n",
        "        predictions = loaded.predict(MFCCs)\n",
        "\n",
        "        return predictions"
      ],
      "metadata": {
        "id": "Cg62YJE8vhLJ"
      },
      "execution_count": null,
      "outputs": []
    },
    {
      "cell_type": "code",
      "source": [
        "def prediksi(data_predict):\n",
        "  print(\"Prediksi: \\n\")\n",
        "  print(\"Pundak: \"+str(data_predict[0,0]*100)+\"%\")\n",
        "  print(\"Mata: \"+str(data_predict[0,1]*100)+\"%\")\n",
        "  print(\"perut: \"+str(data_predict[0,2]*100)+\"%\")\n",
        "  print(\"Pipi: \"+str(data_predict[0,3]*100)+\"%\")\n",
        "  print(\"Telinga: \"+str(data_predict[0,4]*100)+\"%\")\n",
        "  print(\"Gigi: \"+str(data_predict[0,5]*100)+\"%\")\n",
        "  print(\"Hidung: \"+str(data_predict[0,6]*100)+\"%\")\n",
        "  print(\"Jari: \"+str(data_predict[0,7]*100)+\"%\")\n",
        "  print(\"Lidah: \"+str(data_predict[0,8]*100)+\"%\")\n",
        "  print(\"Lutut: \"+str(data_predict[0,9]*100)+\"%\")"
      ],
      "metadata": {
        "id": "miq0fqUVPa4y"
      },
      "execution_count": null,
      "outputs": []
    },
    {
      "cell_type": "code",
      "source": [
        "data_predict = predict(\"/content/drive/MyDrive/BANGKIT/testing_hd.wav\")\n",
        "prediksi(data_predict)"
      ],
      "metadata": {
        "id": "fKayCwS0vhOr",
        "colab": {
          "base_uri": "https://localhost:8080/"
        },
        "outputId": "e630ac10-3a8c-4f51-e584-6723e77703d5"
      },
      "execution_count": null,
      "outputs": [
        {
          "output_type": "stream",
          "name": "stdout",
          "text": [
            "Prediksi: \n",
            "\n",
            "Pundak: 0.022729457123205066%\n",
            "Mata: 0.008936093945521861%\n",
            "perut: 0.05420082015916705%\n",
            "Pipi: 0.07003643549978733%\n",
            "Telinga: 0.22702247370034456%\n",
            "Gigi: 0.15776107320562005%\n",
            "Hidung: 94.76024508476257%\n",
            "Jari: 0.47244238667190075%\n",
            "Lidah: 4.101845994591713%\n",
            "Lutut: 0.12479112483561039%\n"
          ]
        }
      ]
    },
    {
      "cell_type": "code",
      "source": [
        "def findmax(hasil):\n",
        "  fin_max=max(hasil,key=hasil.get)"
      ],
      "metadata": {
        "id": "uJRizY1NpbCB"
      },
      "execution_count": null,
      "outputs": []
    },
    {
      "cell_type": "code",
      "source": [
        "data_predict = predict(\"/content/drive/MyDrive/BANGKIT/testing_gg.wav\")\n",
        "prediksi(data_predict)"
      ],
      "metadata": {
        "id": "UA0MKHCPikNy",
        "colab": {
          "base_uri": "https://localhost:8080/"
        },
        "outputId": "9cf7e80a-8ca8-4401-d896-183d6b0b649e"
      },
      "execution_count": null,
      "outputs": [
        {
          "output_type": "stream",
          "name": "stdout",
          "text": [
            "Prediksi: \n",
            "\n",
            "Pundak: 0.0002963978431580472%\n",
            "Mata: 0.00035359171306481585%\n",
            "perut: 4.3049058717770095e-05%\n",
            "Pipi: 7.359375059604645%\n",
            "Telinga: 0.20227765198796988%\n",
            "Gigi: 81.46303296089172%\n",
            "Hidung: 2.9338186606764793%\n",
            "Jari: 6.262736022472382%\n",
            "Lidah: 1.7780464142560959%\n",
            "Lutut: 1.9608653190061887e-05%\n"
          ]
        }
      ]
    },
    {
      "cell_type": "code",
      "source": [
        "data_predict = predict(\"/content/drive/MyDrive/BANGKIT/testing_ld.wav\")\n",
        "prediksi(data_predict)"
      ],
      "metadata": {
        "id": "qHmhb15TYs1s",
        "colab": {
          "base_uri": "https://localhost:8080/"
        },
        "outputId": "24095384-5513-43cb-9df6-617e201010b7"
      },
      "execution_count": null,
      "outputs": [
        {
          "output_type": "stream",
          "name": "stdout",
          "text": [
            "Prediksi: \n",
            "\n",
            "Pundak: 1.6913756728172302%\n",
            "Mata: 0.17182074952870607%\n",
            "perut: 0.2119198441505432%\n",
            "Pipi: 2.389836125075817%\n",
            "Telinga: 11.351615935564041%\n",
            "Gigi: 1.9493743777275085%\n",
            "Hidung: 3.1373370438814163%\n",
            "Jari: 23.542003333568573%\n",
            "Lidah: 54.74501848220825%\n",
            "Lutut: 0.8096994832158089%\n"
          ]
        }
      ]
    },
    {
      "cell_type": "code",
      "source": [
        "data_predict = predict(\"/content/drive/MyDrive/BANGKIT/testing_mt.wav\")\n",
        "prediksi(data_predict)"
      ],
      "metadata": {
        "id": "SK-Rj4gAYs9N",
        "colab": {
          "base_uri": "https://localhost:8080/"
        },
        "outputId": "c074940a-f743-48b0-d516-a7f0335b0def"
      },
      "execution_count": null,
      "outputs": [
        {
          "output_type": "stream",
          "name": "stdout",
          "text": [
            "Prediksi: \n",
            "\n",
            "Pundak: 0.4147499334067106%\n",
            "Mata: 89.08443450927734%\n",
            "perut: 1.2098860926926136%\n",
            "Pipi: 0.03885122714564204%\n",
            "Telinga: 0.19291967619210482%\n",
            "Gigi: 0.04810146056115627%\n",
            "Hidung: 0.051622517639771104%\n",
            "Jari: 8.596137911081314%\n",
            "Lidah: 0.29109534807503223%\n",
            "Lutut: 0.07220037514343858%\n"
          ]
        }
      ]
    },
    {
      "cell_type": "code",
      "source": [
        "data_predict = predict(\"/content/drive/MyDrive/BANGKIT/gigi_cadel.wav\")\n",
        "prediksi(data_predict)"
      ],
      "metadata": {
        "id": "UEi1Vkk-wFQK",
        "colab": {
          "base_uri": "https://localhost:8080/"
        },
        "outputId": "bd588087-0958-42b3-9adf-de8dc5ae460b"
      },
      "execution_count": null,
      "outputs": [
        {
          "output_type": "stream",
          "name": "stdout",
          "text": [
            "Prediksi: \n",
            "\n",
            "Pundak: 5.331255437113214e-06%\n",
            "Mata: 2.7870491692283395e-06%\n",
            "perut: 3.823542815695191e-07%\n",
            "Pipi: 2.7549684047698975%\n",
            "Telinga: 0.005930757470196113%\n",
            "Gigi: 96.8210756778717%\n",
            "Hidung: 0.27330038137733936%\n",
            "Jari: 0.09841943392530084%\n",
            "Lidah: 0.04630506446119398%\n",
            "Lutut: 7.038596372410666e-07%\n"
          ]
        }
      ]
    },
    {
      "cell_type": "code",
      "source": [
        "data_predict = predict(\"/content/drive/MyDrive/BANGKIT/hidung_cadell.wav\")\n",
        "prediksi(data_predict)"
      ],
      "metadata": {
        "id": "oQ5u5-S-wGCG",
        "colab": {
          "base_uri": "https://localhost:8080/"
        },
        "outputId": "6218f561-9293-4892-b9a5-19d537cd8237"
      },
      "execution_count": null,
      "outputs": [
        {
          "output_type": "stream",
          "name": "stdout",
          "text": [
            "Prediksi: \n",
            "\n",
            "Pundak: 0.10419485624879599%\n",
            "Mata: 0.01240416313521564%\n",
            "perut: 0.018574261048343033%\n",
            "Pipi: 2.268057130277157%\n",
            "Telinga: 18.069030344486237%\n",
            "Gigi: 10.404771566390991%\n",
            "Hidung: 47.383275628089905%\n",
            "Jari: 5.676085129380226%\n",
            "Lidah: 15.60397744178772%\n",
            "Lutut: 0.45963628217577934%\n"
          ]
        }
      ]
    },
    {
      "cell_type": "code",
      "source": [
        "data_predict = predict(\"/content/drive/MyDrive/BANGKIT/ld_cadel.wav\")\n",
        "prediksi(data_predict)"
      ],
      "metadata": {
        "id": "nKxmQrCSYtv3",
        "colab": {
          "base_uri": "https://localhost:8080/"
        },
        "outputId": "47b6c7a5-c8ec-4990-f6ce-11345fdd77d3"
      },
      "execution_count": null,
      "outputs": [
        {
          "output_type": "stream",
          "name": "stdout",
          "text": [
            "Prediksi: \n",
            "\n",
            "Pundak: 0.2397712552919984%\n",
            "Mata: 0.056819082237780094%\n",
            "perut: 0.028904381906613708%\n",
            "Pipi: 0.4432047251611948%\n",
            "Telinga: 11.77099272608757%\n",
            "Gigi: 1.0735230520367622%\n",
            "Hidung: 2.4987060576677322%\n",
            "Jari: 18.690133094787598%\n",
            "Lidah: 64.98424410820007%\n",
            "Lutut: 0.21369988098740578%\n"
          ]
        }
      ]
    },
    {
      "cell_type": "code",
      "source": [
        "data_predict = predict(\"/content/drive/MyDrive/BANGKIT/mt_cadeell.wav\")\n",
        "prediksi(data_predict)"
      ],
      "metadata": {
        "id": "tlGsQy5oYt3d",
        "colab": {
          "base_uri": "https://localhost:8080/"
        },
        "outputId": "8445df21-6832-4306-e2fa-6fa7ad410608"
      },
      "execution_count": null,
      "outputs": [
        {
          "output_type": "stream",
          "name": "stdout",
          "text": [
            "Prediksi: \n",
            "\n",
            "Pundak: 0.30370147433131933%\n",
            "Mata: 95.00552415847778%\n",
            "perut: 0.7466198410838842%\n",
            "Pipi: 0.004362702020443976%\n",
            "Telinga: 0.08757457253523171%\n",
            "Gigi: 0.003498766091070138%\n",
            "Hidung: 0.02116959512932226%\n",
            "Jari: 3.3902212977409363%\n",
            "Lidah: 0.4326076712459326%\n",
            "Lutut: 0.0047122230171225965%\n"
          ]
        }
      ]
    },
    {
      "cell_type": "code",
      "source": [
        "import tensorflow as tf\n",
        "\n",
        "\n",
        "print('\\u2022 Using TensorFlow Version:', tf.__version__)\n",
        "print('\\u2022 GPU Device Found.' if tf.config.list_physical_devices('GPU') else '\\u2022 GPU Device Not Found. Running on CPU')"
      ],
      "metadata": {
        "id": "6SANQdvKjgtZ",
        "colab": {
          "base_uri": "https://localhost:8080/"
        },
        "outputId": "cda63f7d-40ae-4c9e-d496-a1439561e676"
      },
      "execution_count": null,
      "outputs": [
        {
          "output_type": "stream",
          "name": "stdout",
          "text": [
            "• Using TensorFlow Version: 2.8.2\n",
            "• GPU Device Not Found. Running on CPU\n"
          ]
        }
      ]
    }
  ],
  "metadata": {
    "colab": {
      "collapsed_sections": [],
      "name": "RIB_Bangkit_2022_test_drive",
      "provenance": []
    },
    "kernelspec": {
      "display_name": "Python 3",
      "name": "python3"
    },
    "language_info": {
      "name": "python"
    }
  },
  "nbformat": 4,
  "nbformat_minor": 0
}